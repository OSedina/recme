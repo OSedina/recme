{
 "cells": [
  {
   "cell_type": "code",
   "execution_count": null,
   "metadata": {},
   "outputs": [],
   "source": [
    "import os\n",
    "import re\n",
    "\n",
    "import pandas as pd\n",
    "import numpy as np\n",
    "import get_tag_data as gt\n",
    "import matplotlib.pyplot as plt"
   ]
  },
  {
   "cell_type": "markdown",
   "metadata": {},
   "source": [
    "#### Загружаем отобранные тэги"
   ]
  },
  {
   "cell_type": "code",
   "execution_count": null,
   "metadata": {},
   "outputs": [],
   "source": [
    "tags = pd.read_csv(\"./data/tags/mk_tags_freq.csv\", index_col=0)\n",
    "tags.drop(tags.iloc[:2].index, inplace=True)\n",
    "tags.reset_index(inplace=True, drop=True)\n",
    "path = './data/tags/posts_mk/'"
   ]
  },
  {
   "cell_type": "code",
   "execution_count": null,
   "metadata": {},
   "outputs": [],
   "source": [
    "tags.head()"
   ]
  },
  {
   "cell_type": "code",
   "execution_count": null,
   "metadata": {},
   "outputs": [],
   "source": [
    "tags.shape"
   ]
  },
  {
   "cell_type": "markdown",
   "metadata": {},
   "source": [
    "# TODO: Переписать функции в модуль"
   ]
  },
  {
   "cell_type": "markdown",
   "metadata": {},
   "source": [
    "Собираем данные в csv"
   ]
  },
  {
   "cell_type": "code",
   "execution_count": null,
   "metadata": {},
   "outputs": [],
   "source": [
    "def harvest_tags(tags, path):\n",
    "    \"\"\"Dumps data searched by instagram tags to path\"\"\"\n",
    "    \n",
    "    for index, row in tags.iterrows():\n",
    "        tag = row[\"tag\"]\n",
    "        prefix = f\"{tag}_{index}\"\n",
    "        gt.get_tag_data(tag, dump=True, path=path, prefix=prefix)"
   ]
  },
  {
   "cell_type": "markdown",
   "metadata": {},
   "source": [
    "Сливаем файлы в одну таблицу"
   ]
  },
  {
   "cell_type": "code",
   "execution_count": null,
   "metadata": {},
   "outputs": [],
   "source": [
    "def merge_from_path(path):\n",
    "    \"\"\"Merges all csv tables from path into one pandas.DataFrame\"\"\"\n",
    "    \n",
    "    table = pd.DataFrame()\n",
    "    for file_name in next(os.walk(path))[2]:\n",
    "        next_table = pd.read_csv(os.path.join(path, file_name), sep=\";\", index_col=0, engine=\"python\", encoding=\"utf-8\")\n",
    "        next_table[\"by_tag\"] = file_name.split(\"_\")[0]\n",
    "        print(f\"Next table shape: {next_table.shape}\")\n",
    "        table = pd.concat([table, next_table], sort=False)\n",
    "\n",
    "    data = table.reset_index().drop(columns=[\"index\"]).drop_duplicates(subset=\"post_id\")\n",
    "    return data"
   ]
  },
  {
   "cell_type": "markdown",
   "metadata": {},
   "source": [
    "Pipeline"
   ]
  },
  {
   "cell_type": "code",
   "execution_count": null,
   "metadata": {},
   "outputs": [],
   "source": [
    "def add_contacts(df):\n",
    "    \"\"\"Adds phone numbers and bollean direct features\"\"\"\n",
    "    \n",
    "    df = df.copy()\n",
    "    contacts_pat = re.compile(\"([\\+7|7|8]?[\\s\\-]?\\(?[489][0-9]{2}\\)?[\\s\\-]?[0-9]{3}[\\s\\-]?[0-9]{2}[\\s\\-]?[0-9]{2})|(директ)\")\n",
    "    df[[\"phone_number\", \"direct\"]] = df[\"text\"].str.extract(contacts_pat)\n",
    "    return df\n",
    "\n",
    "    \n",
    "def add_price(df):\n",
    "    \"\"\"Adds price feature\"\"\"\n",
    "    \n",
    "    df = df.copy()\n",
    "    price_pat = re.compile(\"([\\d]+[0]{1})\\s?[р]{1}\")  # \"420 р\" and \"4000р\" are prices, \"421\" is not\n",
    "    df[\"price\"] = (df[\"text\"].str.lower()\n",
    "                   .str.extract(price_pat)\n",
    "                   .fillna(0)\n",
    "                   .iloc[:, 0]  # convert to Series\n",
    "                   .map(lambda x: 0 if isinstance(x, str) and len(x) > 5  # remove prices more than 99999 to escape overflow\n",
    "                        else x)\n",
    "                   .astype(\"int64\"))\n",
    "    return df\n",
    "\n",
    "    \n",
    "def filter_workshops(df):\n",
    "    \"\"\"Remove all rows that are not workshops\"\"\"\n",
    "    \n",
    "    contact_filter = df[[\"phone_number\", \"direct\"]].notnull().any(axis=1)\n",
    "    price_filter = df[\"price\"].between(500, 10000)\n",
    "    return df[contact_filter & price_filter]"
   ]
  },
  {
   "cell_type": "code",
   "execution_count": null,
   "metadata": {},
   "outputs": [],
   "source": [
    "%%time\n",
    "\n",
    "main_data = (data.pipe(add_contacts)\n",
    "                .pipe(add_price)\n",
    "                .pipe(filter_workshops))\n",
    "\n",
    "main_data.reset_index(drop=True, inplace=True)"
   ]
  },
  {
   "cell_type": "code",
   "execution_count": null,
   "metadata": {},
   "outputs": [],
   "source": [
    "print(main_data.shape)\n",
    "\n",
    "main_data.head()"
   ]
  },
  {
   "cell_type": "code",
   "execution_count": null,
   "metadata": {},
   "outputs": [],
   "source": [
    "dump_path = \"./data/\"\n",
    "main_data.to_csv(os.path.join(dump_path, \"main_data.csv\"), sep=\";\", encoding=\"utf-8\", index=False)"
   ]
  },
  {
   "cell_type": "markdown",
   "metadata": {},
   "source": [
    "#### Случайная выборка из постов для ручной проверки"
   ]
  },
  {
   "cell_type": "code",
   "execution_count": null,
   "metadata": {},
   "outputs": [],
   "source": [
    "pd.Series(np.random.choice(test_data[\"post_id\"], size=100)).to_csv(\"./data/main_random_posts.csv\")"
   ]
  }
 ],
 "metadata": {
  "kernelspec": {
   "display_name": "Python 3",
   "language": "python",
   "name": "python3"
  },
  "language_info": {
   "codemirror_mode": {
    "name": "ipython",
    "version": 3
   },
   "file_extension": ".py",
   "mimetype": "text/x-python",
   "name": "python",
   "nbconvert_exporter": "python",
   "pygments_lexer": "ipython3",
   "version": "3.7.1"
  }
 },
 "nbformat": 4,
 "nbformat_minor": 2
}
