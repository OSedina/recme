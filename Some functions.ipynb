{
 "cells": [
  {
   "cell_type": "code",
   "execution_count": 1,
   "metadata": {},
   "outputs": [],
   "source": [
    "import requests\n",
    "import pandas as pd\n",
    "from pprint import pprint\n",
    "from operator import itemgetter\n",
    "import json\n",
    "import time\n",
    "from datetime import datetime\n",
    "\n",
    "from functools import reduce\n",
    "\n",
    "from bs4 import BeautifulSoup\n",
    "\n",
    "import random"
   ]
  },
  {
   "cell_type": "markdown",
   "metadata": {},
   "source": [
    "# Добыча лайков"
   ]
  },
  {
   "cell_type": "code",
   "execution_count": 1,
   "metadata": {},
   "outputs": [],
   "source": [
    "url = \"https://www.instagram.com/p/Btndd-hhSF2/\""
   ]
  },
  {
   "cell_type": "code",
   "execution_count": null,
   "metadata": {},
   "outputs": [],
   "source": [
    "from selenium.webdriver import Firefox\n",
    "from selenium.webdriver.firefox.options import Options\n",
    "from selenium.webdriver.common.action_chains import ActionChains\n",
    "\n",
    "# настройки для запуска в фоновом режиме\n",
    "# opts = Options()\n",
    "# opts.set_headless()\n",
    "# assert opts.headless"
   ]
  },
  {
   "cell_type": "code",
   "execution_count": null,
   "metadata": {},
   "outputs": [],
   "source": [
    "# with open(\"patterns.json\", \"w\") as f:\n",
    "#     json.dump({\"liked_by_user\": class_pattern, \"liked_by_button\": 'zV_Nj'}, f)"
   ]
  },
  {
   "cell_type": "markdown",
   "metadata": {},
   "source": [
    "## Это работает"
   ]
  },
  {
   "cell_type": "code",
   "execution_count": null,
   "metadata": {},
   "outputs": [],
   "source": [
    "with open(\"patterns.json\") as f:\n",
    "    patterns = json.load(f)"
   ]
  },
  {
   "cell_type": "code",
   "execution_count": null,
   "metadata": {},
   "outputs": [],
   "source": [
    "browser = Firefox()\n",
    "browser.get(url)\n",
    "browser.find_element_by_xpath(\"//a[@class='{}']\".format(patterns['liked_by_button'])).click()"
   ]
  },
  {
   "cell_type": "code",
   "execution_count": null,
   "metadata": {},
   "outputs": [],
   "source": [
    "frame = browser.find_element_by_xpath(\"/html/body/div[3]/div/div[2]/div\")\n",
    "part_users = frame.text.split(\"\\n\")\n",
    "[part_users[i] for i in range(0, len(part_users), 3)]"
   ]
  },
  {
   "cell_type": "markdown",
   "metadata": {},
   "source": [
    "# Скроллинг"
   ]
  },
  {
   "cell_type": "code",
   "execution_count": null,
   "metadata": {},
   "outputs": [],
   "source": [
    "browser.execute_script(\"arguments[0].scrollTop = arguments[0].scrollHeight\", frame)  # рабочий вариант"
   ]
  },
  {
   "cell_type": "code",
   "execution_count": null,
   "metadata": {},
   "outputs": [],
   "source": [
    "data = [i.text for i in browser.find_elements_by_xpath(\"//div[@class='{}']\".format(patterns[\"liked_by_user\"]))]\n",
    "SCROLL_PAUSE_TIME = 0.5\n",
    "\n",
    "# Get scroll height\n",
    "last_height = browser.execute_script(\"return document.body.scrollHeight\")\n",
    "\n",
    "while True:\n",
    "    # Scroll down to bottom\n",
    "    browser.execute_script(\"window.scrollTo(0, document.body.scrollHeight);\")\n",
    "    data.extend([i.text for i in browser.find_elements_by_xpath(\"//div[@class='{}']\".format(patterns[\"liked_by_user\"]))])\n",
    "    # Wait to load page\n",
    "    time.sleep(SCROLL_PAUSE_TIME)\n",
    "\n",
    "    # Calculate new scroll height and compare with last scroll height\n",
    "    new_height = browser.execute_script(\"return document.body.scrollHeight\")\n",
    "    if new_height == last_height:\n",
    "        break\n",
    "    last_height = new_height"
   ]
  },
  {
   "cell_type": "code",
   "execution_count": null,
   "metadata": {},
   "outputs": [],
   "source": []
  },
  {
   "cell_type": "code",
   "execution_count": null,
   "metadata": {},
   "outputs": [],
   "source": []
  },
  {
   "cell_type": "markdown",
   "metadata": {},
   "source": [
    "# Сбор данных постов, найденных по тэгу"
   ]
  },
  {
   "cell_type": "markdown",
   "metadata": {},
   "source": [
    "Структура json\n",
    "```python\n",
    "[\"graphql\"][\"hashtag\"][\"edge_hashtag_to_media\"][\"page_info\"]\n",
    "```"
   ]
  },
  {
   "cell_type": "code",
   "execution_count": 11,
   "metadata": {},
   "outputs": [],
   "source": [
    "def get_json(path, next_page=None, retries=5):\n",
    "    \"\"\"\n",
    "    Returns json from url https://www.instagram.com/ + path\n",
    "    \n",
    "    path: str, part of url that follows https://www.instagram.com/\n",
    "    next_page: str, link to next page similar to linked list, \n",
    "    got from 'cursor' field in response json\n",
    "    \n",
    "    returns: dict\"\"\"\n",
    "    \n",
    "    url = \"https://www.instagram.com/\" + path\n",
    "    params = {\n",
    "        \"__a\": 1\n",
    "    }\n",
    "    retries_counter = 0\n",
    "    \n",
    "    if next_page:\n",
    "        params[\"max_id\"] = {next_page}\n",
    "    \n",
    "    while retries_counter <= retries:\n",
    "        try:\n",
    "            r = requests.get(url, params=params)\n",
    "            retries_counter = 0\n",
    "            break\n",
    "        except OSError as e:\n",
    "            if GLOBAL_VERBOSE:\n",
    "                print(e)\n",
    "            retries_counter += 1\n",
    "\n",
    "    try:\n",
    "        return r.json()\n",
    "    except json.decoder.JSONDecodeError as e:\n",
    "        print(r)\n",
    "        raise json.decoder.JSONDecodeError"
   ]
  },
  {
   "cell_type": "code",
   "execution_count": 12,
   "metadata": {},
   "outputs": [],
   "source": [
    "def pages_by_tag(tag, max_pages, retries=5):\n",
    "    \"\"\"Instagram pages generator, yields n pages found by hash tag,\n",
    "    where n is less or equal than max_pages\n",
    "    \n",
    "    tag: str, instagram hash tag - a string without '#' symbol\n",
    "    max_pages: int, max n of pages to yield\n",
    "    retries: int, number of attempts to get data from page if \n",
    "    \n",
    "    yields: dict\"\"\"\n",
    "    \n",
    "    next_page = None\n",
    "    page_n = 0\n",
    "    path = f\"explore/tags/{tag}/\"\n",
    "    retries_counter = 0\n",
    "    \n",
    "    while page_n <= max_pages:\n",
    "        page_n += 1\n",
    "        data = get_json(path, next_page)\n",
    "        print(f\"Got page {page_n}\")\n",
    "        \n",
    "        try:\n",
    "            page_info = data[\"graphql\"][\"hashtag\"][\"edge_hashtag_to_media\"][\"page_info\"]\n",
    "            retries_counter = 0\n",
    "        except KeyError:\n",
    "            if retries_counter <= retries:\n",
    "                time.sleep(1)\n",
    "                print(f\"Attempt #{retries_counter} on page {page_n}...\")\n",
    "                retries_counter += 1\n",
    "                continue\n",
    "            else:\n",
    "                print(f\"Unable to get page data\\ncursor: {next_page}\")\n",
    "                break\n",
    "        \n",
    "        # checking link to next page\n",
    "        if page_info[\"has_next_page\"]:\n",
    "            next_page = page_info[\"end_cursor\"]\n",
    "        else:\n",
    "            print(\"No more pages\")\n",
    "            break\n",
    "        \n",
    "        yield data"
   ]
  },
  {
   "cell_type": "code",
   "execution_count": 13,
   "metadata": {},
   "outputs": [],
   "source": [
    "#использовать как декоратор\n",
    "def parse_page(page_json, keys):\n",
    "    \"\"\"Parses instagram page json\n",
    "    page_json: dict, json got from server response\n",
    "    keys: iterable, list of fields to retrieve from page_json\n",
    "    \n",
    "    returns: dict\"\"\"\n",
    "    \n",
    "    parsed_data = {}\n",
    "    page_posts = page_json[\"graphql\"][\"hashtag\"][\"edge_hashtag_to_media\"][\"edges\"]\n",
    "    for post in page_posts:\n",
    "        raw_post = post[\"node\"]\n",
    "        parsed_post = {}\n",
    "        for key in keys:\n",
    "            try:\n",
    "                parsed_post[key] = raw_post[key]\n",
    "            except KeyError:\n",
    "                try:\n",
    "                    parsed_post[key] = raw_post[\"edge_media_to_caption\"][\"edges\"][0][\"node\"][key]\n",
    "                except KeyError:\n",
    "                    if GLOBAL_VERBOSE:\n",
    "                        print(f\"Key {key} was not found\")\n",
    "                except IndexError as e:\n",
    "                    if GLOBAL_VERBOSE:\n",
    "                        print(f\"Key {key} was not found:\\n{e}\")\n",
    "        parsed_data[raw_post[\"shortcode\"]] = parsed_post\n",
    "    return parsed_data"
   ]
  },
  {
   "cell_type": "code",
   "execution_count": 14,
   "metadata": {},
   "outputs": [],
   "source": [
    "def get_tag_data(tag, keys, max_pages=10):\n",
    "    \"\"\"Collects data from instagram posts found by tag\n",
    "    \n",
    "    tag: str, instagram hash tag without '#' symbol\n",
    "    keys: fields from instagram response json to retrieve\n",
    "    max_pages: int, max n of pages to parse\n",
    "    \n",
    "    returns: dict, with pairs <post_shortcode>: {<post_data>}\"\"\"\n",
    "    \n",
    "    tag_data = {}\n",
    "    for page in pages_by_tag(tag, max_pages):\n",
    "        time.sleep(2)\n",
    "        page_data = parse_page(page, keys)\n",
    "        tag_data.update(page_data)\n",
    "    return tag_data"
   ]
  },
  {
   "cell_type": "code",
   "execution_count": 9,
   "metadata": {},
   "outputs": [],
   "source": [
    "GLOBAL_VERBOSE = True\n",
    "tag = \"мастерклассспб\"\n",
    "keys = [\n",
    "    \"text\",\n",
    "    \"taken_at_timestamp\",\n",
    "    \"edge_liked_by\",\n",
    "    \"owner\",\n",
    "    \"is_video\"\n",
    "]\n",
    "# stop_date = datetime.strptime(\"01.01.2019\", \"%d.%M.%Y\").timestamp()"
   ]
  },
  {
   "cell_type": "code",
   "execution_count": null,
   "metadata": {},
   "outputs": [
    {
     "name": "stdout",
     "output_type": "stream",
     "text": [
      "Got page 1\n",
      "Got page 2\n",
      "Got page 3\n",
      "Got page 4\n",
      "Got page 5\n",
      "Got page 6\n",
      "Got page 7\n",
      "Got page 8\n",
      "Got page 9\n",
      "Got page 10\n",
      "Got page 11\n",
      "Got page 12\n",
      "Key text was not found:\n",
      "list index out of range\n",
      "Got page 13\n",
      "Got page 14\n",
      "Got page 15\n",
      "Got page 16\n",
      "Got page 17\n",
      "Got page 18\n",
      "Got page 19\n",
      "Got page 20\n",
      "Got page 21\n",
      "Got page 22\n",
      "Got page 23\n",
      "Got page 24\n",
      "Got page 25\n",
      "Got page 26\n",
      "Got page 27\n",
      "Got page 28\n",
      "Got page 29\n",
      "Got page 30\n",
      "Got page 31\n",
      "Got page 32\n",
      "Got page 33\n",
      "Got page 34\n",
      "Got page 35\n",
      "Got page 36\n",
      "Got page 37\n",
      "Got page 38\n",
      "Got page 39\n",
      "Got page 40\n",
      "Got page 41\n",
      "Got page 42\n",
      "Got page 43\n",
      "Got page 44\n",
      "Got page 45\n",
      "Got page 46\n",
      "Got page 47\n",
      "Got page 48\n",
      "Got page 49\n",
      "Got page 50\n",
      "Got page 51\n",
      "Got page 52\n",
      "Got page 53\n",
      "Got page 54\n",
      "Got page 55\n",
      "Got page 56\n",
      "Got page 57\n",
      "Got page 58\n",
      "Got page 59\n",
      "Key text was not found:\n",
      "list index out of range\n",
      "Got page 60\n",
      "Got page 61\n",
      "Got page 62\n",
      "Got page 63\n",
      "Got page 64\n",
      "Got page 65\n",
      "Got page 66\n",
      "Got page 67\n",
      "Got page 68\n",
      "Got page 69\n",
      "Got page 70\n",
      "Got page 71\n",
      "Got page 72\n",
      "Got page 73\n",
      "Got page 74\n",
      "Got page 75\n",
      "Got page 76\n",
      "Got page 77\n",
      "Got page 78\n",
      "Got page 79\n",
      "Got page 80\n",
      "Got page 81\n",
      "Got page 82\n",
      "Got page 83\n",
      "Got page 84\n",
      "Got page 85\n",
      "Got page 86\n",
      "Got page 87\n",
      "Got page 88\n",
      "Got page 89\n",
      "Got page 90\n",
      "Got page 91\n",
      "Got page 92\n",
      "Got page 93\n",
      "Got page 94\n",
      "Got page 95\n",
      "Got page 96\n",
      "Got page 97\n",
      "Got page 98\n",
      "Got page 99\n",
      "Got page 100\n",
      "Got page 101\n",
      "Got page 102\n",
      "Got page 103\n",
      "Got page 104\n",
      "Got page 105\n",
      "Got page 106\n",
      "Got page 107\n",
      "Got page 108\n",
      "Got page 109\n",
      "Got page 110\n",
      "Got page 111\n",
      "Got page 112\n",
      "Got page 113\n",
      "Got page 114\n",
      "Got page 115\n",
      "Got page 116\n",
      "Got page 117\n",
      "Got page 118\n",
      "Key text was not found:\n",
      "list index out of range\n",
      "Got page 119\n",
      "Key text was not found:\n",
      "list index out of range\n",
      "Key text was not found:\n",
      "list index out of range\n",
      "Got page 120\n",
      "Got page 121\n",
      "Key text was not found:\n",
      "list index out of range\n",
      "Got page 122\n",
      "Got page 123\n",
      "Got page 124\n",
      "Got page 125\n",
      "Key text was not found:\n",
      "list index out of range\n",
      "Got page 126\n",
      "Got page 127\n",
      "Got page 128\n",
      "Got page 129\n",
      "Got page 130\n",
      "Key text was not found:\n",
      "list index out of range\n",
      "Got page 131\n",
      "Got page 132\n",
      "Got page 133\n",
      "Got page 134\n",
      "Got page 135\n",
      "Got page 136\n",
      "Got page 137\n",
      "Key text was not found:\n",
      "list index out of range\n",
      "Got page 138\n",
      "Got page 139\n",
      "Got page 140\n",
      "Got page 141\n",
      "Got page 142\n",
      "Got page 143\n",
      "Got page 144\n",
      "Got page 145\n",
      "Got page 146\n",
      "Got page 147\n",
      "Got page 148\n",
      "Got page 149\n",
      "Got page 150\n"
     ]
    }
   ],
   "source": [
    "tag_data = get_tag_data(tag, keys, max_pages=300)"
   ]
  },
  {
   "cell_type": "code",
   "execution_count": null,
   "metadata": {},
   "outputs": [],
   "source": []
  },
  {
   "cell_type": "code",
   "execution_count": null,
   "metadata": {},
   "outputs": [],
   "source": [
    "get_page_data(next(pages_by_tag(tag, 1)), keys)"
   ]
  },
  {
   "cell_type": "code",
   "execution_count": null,
   "metadata": {},
   "outputs": [],
   "source": []
  },
  {
   "cell_type": "code",
   "execution_count": null,
   "metadata": {},
   "outputs": [],
   "source": []
  },
  {
   "cell_type": "code",
   "execution_count": 81,
   "metadata": {},
   "outputs": [
    {
     "name": "stdout",
     "output_type": "stream",
     "text": [
      "[{\"1\": 2}]\n"
     ]
    }
   ],
   "source": [
    "print(json.dumps([{1: 2}]))"
   ]
  },
  {
   "cell_type": "code",
   "execution_count": null,
   "metadata": {},
   "outputs": [],
   "source": []
  },
  {
   "cell_type": "code",
   "execution_count": null,
   "metadata": {},
   "outputs": [],
   "source": []
  },
  {
   "cell_type": "code",
   "execution_count": null,
   "metadata": {},
   "outputs": [],
   "source": []
  },
  {
   "cell_type": "code",
   "execution_count": null,
   "metadata": {},
   "outputs": [],
   "source": []
  },
  {
   "cell_type": "code",
   "execution_count": null,
   "metadata": {},
   "outputs": [],
   "source": []
  },
  {
   "cell_type": "markdown",
   "metadata": {},
   "source": [
    "### Какие то тесты"
   ]
  },
  {
   "cell_type": "code",
   "execution_count": null,
   "metadata": {},
   "outputs": [],
   "source": [
    "data = get_tag_data(\"мастеркласс\", keys, max_pages=300)"
   ]
  },
  {
   "cell_type": "code",
   "execution_count": null,
   "metadata": {},
   "outputs": [],
   "source": [
    "data_pd = pd.DataFrame.from_dict(data, orient='index')"
   ]
  },
  {
   "cell_type": "code",
   "execution_count": null,
   "metadata": {},
   "outputs": [],
   "source": [
    "data_pd.reset_index(inplace=True)"
   ]
  },
  {
   "cell_type": "code",
   "execution_count": null,
   "metadata": {},
   "outputs": [],
   "source": [
    "data_pd.to_csv(\"тэг_мастеркласс_300_страниц.csv\")"
   ]
  },
  {
   "cell_type": "code",
   "execution_count": null,
   "metadata": {},
   "outputs": [],
   "source": [
    "data_pd[\"taken_at_timestamp\"].map(lambda x: datetime.fromtimestamp(x))"
   ]
  },
  {
   "cell_type": "code",
   "execution_count": null,
   "metadata": {},
   "outputs": [],
   "source": [
    "# html class for liked by\n",
    "liked_by_class = \"pbNvD fPMEg\""
   ]
  },
  {
   "cell_type": "code",
   "execution_count": null,
   "metadata": {},
   "outputs": [],
   "source": [
    "r = requests.get(\"https://www.instagram.com/p/Bu1eDsZDMSx/liked_by/\")\n",
    "soup = BeautifulSoup(r.content, \"html.parser\")"
   ]
  }
 ],
 "metadata": {
  "kernelspec": {
   "display_name": "Python 3",
   "language": "python",
   "name": "python3"
  },
  "language_info": {
   "codemirror_mode": {
    "name": "ipython",
    "version": 3
   },
   "file_extension": ".py",
   "mimetype": "text/x-python",
   "name": "python",
   "nbconvert_exporter": "python",
   "pygments_lexer": "ipython3",
   "version": "3.7.1"
  }
 },
 "nbformat": 4,
 "nbformat_minor": 2
}
