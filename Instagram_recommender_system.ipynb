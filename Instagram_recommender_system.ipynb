{
 "cells": [
  {
   "cell_type": "markdown",
   "metadata": {},
   "source": [
    "# План\n",
    "- <span>&check;</span> пример сбора данных о постах\n",
    "- <span>&check;</span> очистка данных\n",
    "- <span>&check;</span> пример отбора тэгов\n",
    "- <span>&check;</span> препроцессинг текстовых данных (текст, тэги)\n",
    "- <span>&check;</span> первые рекомендации (KNN)"
   ]
  },
  {
   "cell_type": "code",
   "execution_count": 1,
   "metadata": {},
   "outputs": [],
   "source": [
    "import os\n",
    "import re\n",
    "import json\n",
    "from collections import Counter\n",
    "\n",
    "import pandas as pd\n",
    "import numpy as np\n",
    "\n",
    "from sklearn.feature_extraction.text import TfidfVectorizer\n",
    "from sklearn.cluster import MiniBatchKMeans\n",
    "from sklearn.neighbors import NearestNeighbors\n",
    "\n",
    "from datamining import posts_mining, likes_mining, files\n",
    "from utils.preprocessing import FeatureExtractor, TextProcessing\n",
    "from utils.analysis import FreqCounter, KMeansAnalyzer"
   ]
  },
  {
   "cell_type": "code",
   "execution_count": 2,
   "metadata": {},
   "outputs": [],
   "source": [
    "fext = FeatureExtractor()"
   ]
  },
  {
   "cell_type": "code",
   "execution_count": 4,
   "metadata": {},
   "outputs": [],
   "source": [
    "example_path = \"./example_data/\""
   ]
  },
  {
   "cell_type": "markdown",
   "metadata": {},
   "source": [
    "Предварительно отбираем несколько тэгов для сбора данных\n",
    "\n",
    "В качестве примера взяты тэги для тематики мастер-классы в городе Санкт-Петербург"
   ]
  },
  {
   "cell_type": "code",
   "execution_count": 5,
   "metadata": {},
   "outputs": [],
   "source": [
    "init_tags = pd.read_csv(\"./example_data/example_tags.csv\", header=None)[0].values"
   ]
  },
  {
   "cell_type": "code",
   "execution_count": 6,
   "metadata": {},
   "outputs": [
    {
     "data": {
      "text/plain": [
       "array(['мастерклассспб', 'мкспб'], dtype=object)"
      ]
     },
     "execution_count": 6,
     "metadata": {},
     "output_type": "execute_result"
    }
   ],
   "source": [
    "init_tags"
   ]
  },
  {
   "cell_type": "markdown",
   "metadata": {},
   "source": [
    "Собираем данные о постах для выбранных тэгов"
   ]
  },
  {
   "cell_type": "code",
   "execution_count": 7,
   "metadata": {},
   "outputs": [
    {
     "name": "stdout",
     "output_type": "stream",
     "text": [
      "Collecting data 1 / 2 for tag мастерклассспб\n",
      "Collecting data 2 / 2 for tag мкспб\n"
     ]
    }
   ],
   "source": [
    "posts_mining.get_all_posts(init_tags, path=os.path.join(example_path, \"posts\", \"init\"), max_pages=10)"
   ]
  },
  {
   "cell_type": "code",
   "execution_count": 8,
   "metadata": {},
   "outputs": [],
   "source": [
    "posts = files.merge_csv(os.path.join(example_path, \"posts\", \"init\"))"
   ]
  },
  {
   "cell_type": "code",
   "execution_count": 9,
   "metadata": {},
   "outputs": [
    {
     "data": {
      "text/html": [
       "<div>\n",
       "<style scoped>\n",
       "    .dataframe tbody tr th:only-of-type {\n",
       "        vertical-align: middle;\n",
       "    }\n",
       "\n",
       "    .dataframe tbody tr th {\n",
       "        vertical-align: top;\n",
       "    }\n",
       "\n",
       "    .dataframe thead th {\n",
       "        text-align: right;\n",
       "    }\n",
       "</style>\n",
       "<table border=\"1\" class=\"dataframe\">\n",
       "  <thead>\n",
       "    <tr style=\"text-align: right;\">\n",
       "      <th></th>\n",
       "      <th>post_id</th>\n",
       "      <th>text</th>\n",
       "      <th>date</th>\n",
       "      <th>likes</th>\n",
       "      <th>owner_id</th>\n",
       "      <th>is_video</th>\n",
       "      <th>by_tag</th>\n",
       "    </tr>\n",
       "  </thead>\n",
       "  <tbody>\n",
       "    <tr>\n",
       "      <th>0</th>\n",
       "      <td>Bw1vkhAgug-</td>\n",
       "      <td>ФРАНШИЗА ⚠️Брелок с Гос.номером⚠️\\n⠀\\n\"Брелок ...</td>\n",
       "      <td>1556541515</td>\n",
       "      <td>26</td>\n",
       "      <td>12358401437</td>\n",
       "      <td>False</td>\n",
       "      <td>мастерклассспб</td>\n",
       "    </tr>\n",
       "    <tr>\n",
       "      <th>1</th>\n",
       "      <td>Bw1xA5UgTyZ</td>\n",
       "      <td>Фото GRAPHIC\\nА ты хочешь без всяких заморочек...</td>\n",
       "      <td>1556542272</td>\n",
       "      <td>38</td>\n",
       "      <td>12358401437</td>\n",
       "      <td>False</td>\n",
       "      <td>мастерклассспб</td>\n",
       "    </tr>\n",
       "    <tr>\n",
       "      <th>2</th>\n",
       "      <td>Bw1xJKzA_8l</td>\n",
       "      <td>Коврик из гальки\\nФраншиза содержит пошаговые ...</td>\n",
       "      <td>1556542340</td>\n",
       "      <td>88</td>\n",
       "      <td>12358401437</td>\n",
       "      <td>False</td>\n",
       "      <td>мастерклассспб</td>\n",
       "    </tr>\n",
       "    <tr>\n",
       "      <th>3</th>\n",
       "      <td>Bw6T8EJDEf0</td>\n",
       "      <td>Ни какого развода или пирамид\\nНи надо зазыват...</td>\n",
       "      <td>1556694800</td>\n",
       "      <td>103</td>\n",
       "      <td>12358401437</td>\n",
       "      <td>False</td>\n",
       "      <td>мастерклассспб</td>\n",
       "    </tr>\n",
       "    <tr>\n",
       "      <th>4</th>\n",
       "      <td>Bw_mKSGDAYK</td>\n",
       "      <td>NaN</td>\n",
       "      <td>1556872430</td>\n",
       "      <td>95</td>\n",
       "      <td>12358401437</td>\n",
       "      <td>True</td>\n",
       "      <td>мастерклассспб</td>\n",
       "    </tr>\n",
       "  </tbody>\n",
       "</table>\n",
       "</div>"
      ],
      "text/plain": [
       "       post_id                                               text        date  \\\n",
       "0  Bw1vkhAgug-  ФРАНШИЗА ⚠️Брелок с Гос.номером⚠️\\n⠀\\n\"Брелок ...  1556541515   \n",
       "1  Bw1xA5UgTyZ  Фото GRAPHIC\\nА ты хочешь без всяких заморочек...  1556542272   \n",
       "2  Bw1xJKzA_8l  Коврик из гальки\\nФраншиза содержит пошаговые ...  1556542340   \n",
       "3  Bw6T8EJDEf0  Ни какого развода или пирамид\\nНи надо зазыват...  1556694800   \n",
       "4  Bw_mKSGDAYK                                                NaN  1556872430   \n",
       "\n",
       "   likes     owner_id  is_video          by_tag  \n",
       "0     26  12358401437     False  мастерклассспб  \n",
       "1     38  12358401437     False  мастерклассспб  \n",
       "2     88  12358401437     False  мастерклассспб  \n",
       "3    103  12358401437     False  мастерклассспб  \n",
       "4     95  12358401437      True  мастерклассспб  "
      ]
     },
     "execution_count": 9,
     "metadata": {},
     "output_type": "execute_result"
    }
   ],
   "source": [
    "posts.head()"
   ]
  },
  {
   "cell_type": "code",
   "execution_count": 10,
   "metadata": {},
   "outputs": [],
   "source": [
    "posts.dropna(inplace=True)"
   ]
  },
  {
   "cell_type": "code",
   "execution_count": 11,
   "metadata": {},
   "outputs": [
    {
     "data": {
      "text/plain": [
       "(1321, 7)"
      ]
     },
     "execution_count": 11,
     "metadata": {},
     "output_type": "execute_result"
    }
   ],
   "source": [
    "posts.shape"
   ]
  },
  {
   "cell_type": "markdown",
   "metadata": {},
   "source": [
    "Удаляем повторяющиеся посты, используя разбиения текста на слова для большей точности"
   ]
  },
  {
   "cell_type": "code",
   "execution_count": 12,
   "metadata": {},
   "outputs": [],
   "source": [
    "posts = posts.pipe(fext.drop_duplicates)"
   ]
  },
  {
   "cell_type": "code",
   "execution_count": 13,
   "metadata": {},
   "outputs": [
    {
     "data": {
      "text/plain": [
       "(1100, 7)"
      ]
     },
     "execution_count": 13,
     "metadata": {},
     "output_type": "execute_result"
    }
   ],
   "source": [
    "posts.shape"
   ]
  },
  {
   "cell_type": "markdown",
   "metadata": {},
   "source": [
    "Для расширения набора данных, повторим поиск для наиболее часто встречающихся тэгов, находящихся в собранных данных, и подходящих для выбранной тематики"
   ]
  },
  {
   "cell_type": "code",
   "execution_count": 14,
   "metadata": {},
   "outputs": [],
   "source": [
    "theme_pattern = re.compile(\"#(\\w*мастеркласс\\w*|мк\\w*|\\w*мк)(?=[#\\W]|$)\")\n",
    "new_tags = posts[\"text\"].map(TextProcessing(token_pat=theme_pattern).tokenize)\n",
    "fc = FreqCounter().fit(new_tags)"
   ]
  },
  {
   "cell_type": "code",
   "execution_count": 15,
   "metadata": {},
   "outputs": [
    {
     "data": {
      "text/html": [
       "<div>\n",
       "<style scoped>\n",
       "    .dataframe tbody tr th:only-of-type {\n",
       "        vertical-align: middle;\n",
       "    }\n",
       "\n",
       "    .dataframe tbody tr th {\n",
       "        vertical-align: top;\n",
       "    }\n",
       "\n",
       "    .dataframe thead th {\n",
       "        text-align: right;\n",
       "    }\n",
       "</style>\n",
       "<table border=\"1\" class=\"dataframe\">\n",
       "  <thead>\n",
       "    <tr style=\"text-align: right;\">\n",
       "      <th></th>\n",
       "      <th>item</th>\n",
       "      <th>freq</th>\n",
       "    </tr>\n",
       "  </thead>\n",
       "  <tbody>\n",
       "    <tr>\n",
       "      <th>0</th>\n",
       "      <td>мастерклассспб</td>\n",
       "      <td>413</td>\n",
       "    </tr>\n",
       "    <tr>\n",
       "      <th>1</th>\n",
       "      <td>мкспб</td>\n",
       "      <td>410</td>\n",
       "    </tr>\n",
       "    <tr>\n",
       "      <th>2</th>\n",
       "      <td>мастеркласс</td>\n",
       "      <td>199</td>\n",
       "    </tr>\n",
       "    <tr>\n",
       "      <th>3</th>\n",
       "      <td>мк</td>\n",
       "      <td>67</td>\n",
       "    </tr>\n",
       "    <tr>\n",
       "      <th>4</th>\n",
       "      <td>мкпитер</td>\n",
       "      <td>44</td>\n",
       "    </tr>\n",
       "  </tbody>\n",
       "</table>\n",
       "</div>"
      ],
      "text/plain": [
       "             item  freq\n",
       "0  мастерклассспб   413\n",
       "1           мкспб   410\n",
       "2     мастеркласс   199\n",
       "3              мк    67\n",
       "4         мкпитер    44"
      ]
     },
     "execution_count": 15,
     "metadata": {},
     "output_type": "execute_result"
    }
   ],
   "source": [
    "fc._data.head()"
   ]
  },
  {
   "cell_type": "code",
   "execution_count": 16,
   "metadata": {},
   "outputs": [
    {
     "data": {
      "text/html": [
       "<div>\n",
       "<style scoped>\n",
       "    .dataframe tbody tr th:only-of-type {\n",
       "        vertical-align: middle;\n",
       "    }\n",
       "\n",
       "    .dataframe tbody tr th {\n",
       "        vertical-align: top;\n",
       "    }\n",
       "\n",
       "    .dataframe thead th {\n",
       "        text-align: right;\n",
       "    }\n",
       "</style>\n",
       "<table border=\"1\" class=\"dataframe\">\n",
       "  <thead>\n",
       "    <tr style=\"text-align: right;\">\n",
       "      <th></th>\n",
       "      <th>item</th>\n",
       "      <th>freq</th>\n",
       "    </tr>\n",
       "  </thead>\n",
       "  <tbody>\n",
       "    <tr>\n",
       "      <th>5</th>\n",
       "      <td>мастеркласстортыпитер</td>\n",
       "      <td>31</td>\n",
       "    </tr>\n",
       "    <tr>\n",
       "      <th>7</th>\n",
       "      <td>мкпотортамспб</td>\n",
       "      <td>21</td>\n",
       "    </tr>\n",
       "    <tr>\n",
       "      <th>8</th>\n",
       "      <td>мкпотортам</td>\n",
       "      <td>21</td>\n",
       "    </tr>\n",
       "    <tr>\n",
       "      <th>9</th>\n",
       "      <td>мкпотортампитер</td>\n",
       "      <td>20</td>\n",
       "    </tr>\n",
       "    <tr>\n",
       "      <th>10</th>\n",
       "      <td>мктортыпитер</td>\n",
       "      <td>20</td>\n",
       "    </tr>\n",
       "    <tr>\n",
       "      <th>14</th>\n",
       "      <td>мастеркласстортыспб</td>\n",
       "      <td>12</td>\n",
       "    </tr>\n",
       "    <tr>\n",
       "      <th>15</th>\n",
       "      <td>мастеркласспитерторты</td>\n",
       "      <td>11</td>\n",
       "    </tr>\n",
       "    <tr>\n",
       "      <th>16</th>\n",
       "      <td>мастерклассспбторты</td>\n",
       "      <td>11</td>\n",
       "    </tr>\n",
       "    <tr>\n",
       "      <th>17</th>\n",
       "      <td>мкторты</td>\n",
       "      <td>11</td>\n",
       "    </tr>\n",
       "    <tr>\n",
       "      <th>23</th>\n",
       "      <td>мкпитерторты</td>\n",
       "      <td>9</td>\n",
       "    </tr>\n",
       "    <tr>\n",
       "      <th>25</th>\n",
       "      <td>мастеркласспотортампитер</td>\n",
       "      <td>8</td>\n",
       "    </tr>\n",
       "  </tbody>\n",
       "</table>\n",
       "</div>"
      ],
      "text/plain": [
       "                        item  freq\n",
       "5      мастеркласстортыпитер    31\n",
       "7              мкпотортамспб    21\n",
       "8                 мкпотортам    21\n",
       "9            мкпотортампитер    20\n",
       "10              мктортыпитер    20\n",
       "14       мастеркласстортыспб    12\n",
       "15     мастеркласспитерторты    11\n",
       "16       мастерклассспбторты    11\n",
       "17                   мкторты    11\n",
       "23              мкпитерторты     9\n",
       "25  мастеркласспотортампитер     8"
      ]
     },
     "execution_count": 16,
     "metadata": {},
     "output_type": "execute_result"
    }
   ],
   "source": [
    "fc._data[fc._data[\"item\"].str.contains(\"торт\")]"
   ]
  },
  {
   "cell_type": "markdown",
   "metadata": {},
   "source": [
    "Из полученных тэгов можно сделать выборку различными способами, например:\n",
    "1. Использовать кластеризацию на произвольное количество групп, затем взять n случайных тэгов из каждой группы. Такой подход позволят уменьшить время на сбор данных с похожих тэгов, например \"мастеркласстортыпитер\" и \"мкпотортамспб\".\n",
    "2. Из каждого кластера выбрать n кандидатов случайным образом или по наибольшим/наименьшим частотам."
   ]
  },
  {
   "cell_type": "code",
   "execution_count": 17,
   "metadata": {},
   "outputs": [],
   "source": [
    "tfidf = TfidfVectorizer(analyzer=\"char_wb\", ngram_range=(2, 4))\n",
    "tags_cluster_train = tfidf.fit_transform(fc._data[\"item\"])\n",
    "km = MiniBatchKMeans(random_state=17, n_clusters=40)\n",
    "km.fit(tags_cluster_train)\n",
    "\n",
    "random_tags = fc._data.assign(label=km.labels_).groupby(\"label\")[\"item\"].apply(np.random.choice)"
   ]
  },
  {
   "cell_type": "code",
   "execution_count": 18,
   "metadata": {},
   "outputs": [
    {
     "name": "stdout",
     "output_type": "stream",
     "text": [
      "['мастерклассповяз' 'мастерклассстеклоспб' 'мкскульптурнаяживописьспб'\n",
      " 'мкброшьспб' 'мкросписьпостеклу' 'мкдетскаяшапка' 'мкпитер' 'мкшокоцветы'\n",
      " 'мкпомакияжу' 'мастерклассыдлядетей' 'всемастерклассы'\n",
      " 'мастерклассмакраме' 'мастеркласстортыпитер' 'мквитраж'\n",
      " 'бесплатныймастеркласс' 'мксочи' 'мастерклассвязание' 'мкмосква'\n",
      " 'мастерклассыгатчина' 'мастерклассповалянию' 'мкчелябинск' 'мкмозаика'\n",
      " 'мкбисер' 'вышивкамк' 'мастеркласспостилю' 'мастерклассдети' 'мкоренбург'\n",
      " 'эпоксиднаясмоламастеркласс' 'мкновосибирск' 'мквподарок'\n",
      " 'мастерклассповязанию' 'мкмэрикэй' 'кулинарныймк' 'мкпоприческамспб'\n",
      " 'мкfamilyfoto' 'самарамастеркласс' 'мккрючком' 'мкпофлористике'\n",
      " 'плюшевыеигрушкимк' 'мкпокаллиграфии']\n"
     ]
    }
   ],
   "source": [
    "print(random_tags.values)"
   ]
  },
  {
   "cell_type": "markdown",
   "metadata": {},
   "source": [
    "Однако в случае, когда ограничения по времени нет, можно собрать данные по всем тэгам"
   ]
  },
  {
   "cell_type": "code",
   "execution_count": 19,
   "metadata": {},
   "outputs": [
    {
     "name": "stdout",
     "output_type": "stream",
     "text": [
      "Collecting data 1 / 234 for tag мастерклассспб\n",
      "Collecting data 2 / 234 for tag мкспб\n",
      "Collecting data 3 / 234 for tag мастеркласс\n",
      "Collecting data 4 / 234 for tag мк\n",
      "Collecting data 5 / 234 for tag мкпитер\n",
      "Collecting data 6 / 234 for tag мастеркласстортыпитер\n",
      "Collecting data 7 / 234 for tag мастеркласспитер\n",
      "Collecting data 8 / 234 for tag мкпотортамспб\n",
      "Collecting data 9 / 234 for tag мкпотортам\n",
      "Collecting data 10 / 234 for tag мкпотортампитер\n",
      "Collecting data 11 / 234 for tag мктортыпитер\n",
      "Collecting data 12 / 234 for tag мастерклассыдлядетей\n",
      "Collecting data 13 / 234 for tag выездноймастеркласс\n",
      "Collecting data 14 / 234 for tag мкмосква\n",
      "Collecting data 15 / 234 for tag мастеркласстортыспб\n",
      "Collecting data 16 / 234 for tag мастеркласспитерторты\n",
      "Collecting data 17 / 234 for tag мастерклассспбторты\n",
      "Collecting data 18 / 234 for tag мкторты\n",
      "Collecting data 19 / 234 for tag мквитражнаяроспись\n",
      "Collecting data 20 / 234 for tag мастерклассы\n",
      "Collecting data 21 / 234 for tag мкросписьпостеклу\n",
      "Collecting data 22 / 234 for tag хожунамастерклассы\n",
      "Collecting data 23 / 234 for tag мастерклассмаслом\n",
      "Collecting data 24 / 234 for tag мкпитерторты\n",
      "Collecting data 25 / 234 for tag мастеркласспоживописи\n",
      "Collecting data 26 / 234 for tag мастеркласспотортампитер\n",
      "Collecting data 27 / 234 for tag мастерклассыспб\n",
      "Collecting data 28 / 234 for tag мастерклассмосква\n",
      "Collecting data 29 / 234 for tag мквизажист\n",
      "Collecting data 30 / 234 for tag гончарныймастерклассспб\n",
      "Collecting data 31 / 234 for tag кулинарныймастеркласс\n",
      "Collecting data 32 / 234 for tag мквитражнаяросписьспб\n",
      "Collecting data 33 / 234 for tag мквитражспб\n",
      "Collecting data 34 / 234 for tag мкпосозданиюпарфюма\n",
      "Collecting data 35 / 234 for tag мкросписьспб\n",
      "Collecting data 36 / 234 for tag мккартинанастекле\n",
      "Collecting data 37 / 234 for tag мкакварель\n",
      "Collecting data 38 / 234 for tag мастеркласспарфюм\n",
      "Collecting data 39 / 234 for tag мастерклассдлядетей\n",
      "Collecting data 40 / 234 for tag парфюмерныймастеркласс\n",
      "Collecting data 41 / 234 for tag мквитраж\n",
      "Collecting data 42 / 234 for tag мкброшь\n",
      "Collecting data 43 / 234 for tag мастерклассмехенди\n",
      "Collecting data 44 / 234 for tag кулинарныймк\n",
      "Collecting data 45 / 234 for tag мкорск\n",
      "Collecting data 46 / 234 for tag живоймк\n",
      "Collecting data 47 / 234 for tag бесплатныймастеркласс\n",
      "Collecting data 48 / 234 for tag мастерклассдляфотографов\n",
      "Collecting data 49 / 234 for tag мастерклассбесплатно\n",
      "Collecting data 50 / 234 for tag мксамара\n",
      "Collecting data 51 / 234 for tag мквитражорск\n",
      "Collecting data 52 / 234 for tag мастерклассвспб\n",
      "Collecting data 53 / 234 for tag мкброшка\n",
      "Collecting data 54 / 234 for tag мастерклассповязанию\n",
      "Collecting data 55 / 234 for tag мастерклассброшь\n",
      "Collecting data 56 / 234 for tag мкмытаревойжанны\n",
      "Collecting data 57 / 234 for tag мкповязанию\n",
      "Collecting data 58 / 234 for tag мксочи\n",
      "Collecting data 59 / 234 for tag конфетти_мастеркласс\n",
      "Collecting data 60 / 234 for tag мастеркласспостилю\n",
      "Collecting data 61 / 234 for tag мкпомакияжу\n",
      "Collecting data 62 / 234 for tag мкпофлористике\n",
      "Collecting data 63 / 234 for tag гончарныймастеркласс\n",
      "Collecting data 64 / 234 for tag мкпостилю\n",
      "Collecting data 65 / 234 for tag мкпорисованию\n",
      "Collecting data 66 / 234 for tag мккраснодар\n",
      "Collecting data 67 / 234 for tag мкскульптурнаяживописьспб\n",
      "Collecting data 68 / 234 for tag мкброшьизбисера\n",
      "Collecting data 69 / 234 for tag площадкаподмк\n",
      "Collecting data 70 / 234 for tag мастеркласссанктпетербург\n",
      "Collecting data 71 / 234 for tag мкдлядетей\n",
      "Collecting data 72 / 234 for tag irenelovestextile_мк\n",
      "Collecting data 73 / 234 for tag мастерклассбатик\n",
      "Collecting data 74 / 234 for tag детскиймастеркласс\n",
      "Collecting data 75 / 234 for tag мктильда\n",
      "Collecting data 76 / 234 for tag мастерклассастана\n",
      "Collecting data 77 / 234 for tag выездныемастерклассы\n",
      "Collecting data 78 / 234 for tag мклетягинаспб\n",
      "Collecting data 79 / 234 for tag мастерклассалматы\n",
      "Collecting data 80 / 234 for tag мквязание\n",
      "Collecting data 81 / 234 for tag мастерклассдлякондитеров\n",
      "Collecting data 82 / 234 for tag мастерклассвязание\n",
      "Collecting data 83 / 234 for tag мастеркласспошитью\n",
      "Collecting data 84 / 234 for tag мкчелябинск\n",
      "Collecting data 85 / 234 for tag мастерклассыповязанию\n",
      "Collecting data 86 / 234 for tag мастерклассповалянию\n",
      "Collecting data 87 / 234 for tag мастерклассыдлявзрослых\n",
      "Collecting data 88 / 234 for tag мкскульптурнаяживопись\n",
      "Collecting data 89 / 234 for tag мастерклассстеклоспб\n",
      "Collecting data 90 / 234 for tag мкновосибирск\n",
      "Collecting data 91 / 234 for tag мастерклассатырау\n",
      "Collecting data 92 / 234 for tag мастерклассымосква\n",
      "Collecting data 93 / 234 for tag мастерклассвшколу\n",
      "Collecting data 94 / 234 for tag мастерклассуфа\n",
      "Collecting data 95 / 234 for tag мастерклассактау\n",
      "Collecting data 96 / 234 for tag мастеркласстараз\n",
      "Collecting data 97 / 234 for tag мастерклассонлайн\n",
      "Collecting data 98 / 234 for tag мастерклассактобе\n",
      "Collecting data 99 / 234 for tag мкказань\n",
      "Collecting data 100 / 234 for tag мастерклассцветы\n",
      "Collecting data 101 / 234 for tag мкуфа\n",
      "Collecting data 102 / 234 for tag валяниемк\n",
      "Collecting data 103 / 234 for tag мастеркласс_антоним_страха\n",
      "Collecting data 104 / 234 for tag мастерклассдлямальчиков\n",
      "Collecting data 105 / 234 for tag мастеркласспопитанию\n",
      "Collecting data 106 / 234 for tag валяниемастеркласс\n",
      "Collecting data 107 / 234 for tag мкпермь\n",
      "Collecting data 108 / 234 for tag мквладивосток\n",
      "Collecting data 109 / 234 for tag бесплатномастеркласс\n",
      "Collecting data 110 / 234 for tag мкfamilyfoto\n",
      "Collecting data 111 / 234 for tag мастеркласспофотографии\n",
      "Collecting data 112 / 234 for tag мкбижутерия\n",
      "Collecting data 113 / 234 for tag мастеркласспомозаике\n",
      "Collecting data 114 / 234 for tag мкстилиста\n",
      "Collecting data 115 / 234 for tag мк_cristalli\n",
      "Collecting data 116 / 234 for tag мастеркласспокоже\n",
      "Collecting data 117 / 234 for tag мкекатеринбург\n",
      "Collecting data 118 / 234 for tag мкоренбург\n",
      "Collecting data 119 / 234 for tag мкшокоцветы\n",
      "Collecting data 120 / 234 for tag всемастерклассы\n",
      "Collecting data 121 / 234 for tag мкдети\n",
      "Collecting data 122 / 234 for tag мкчелябинсккондитер\n",
      "Collecting data 123 / 234 for tag мканнымаюр\n",
      "Collecting data 124 / 234 for tag мастерклассвокал\n",
      "Collecting data 125 / 234 for tag мкоксанамитинская\n",
      "Collecting data 126 / 234 for tag мкшоколадныецветы\n",
      "Collecting data 127 / 234 for tag художественныймк\n",
      "Collecting data 128 / 234 for tag мкбисер\n",
      "Collecting data 129 / 234 for tag мастерклассвизаж\n",
      "Collecting data 130 / 234 for tag плюшевыеигрушкимк\n",
      "Collecting data 131 / 234 for tag мастерклассрозыгрыш\n",
      "Collecting data 132 / 234 for tag мастерклассвофис\n",
      "Collecting data 133 / 234 for tag мастерклассывшколу\n",
      "Collecting data 134 / 234 for tag клюквамк\n",
      "Collecting data 135 / 234 for tag мастеркласспоприческам\n",
      "Collecting data 136 / 234 for tag мксаратов\n",
      "Collecting data 137 / 234 for tag мкхабаровск\n",
      "Collecting data 138 / 234 for tag амигуруми_мк\n",
      "Collecting data 139 / 234 for tag svidanie_мастерклассы\n",
      "Collecting data 140 / 234 for tag мастерклассмыловарение\n",
      "Collecting data 141 / 234 for tag мквспб\n",
      "Collecting data 142 / 234 for tag мастерклассброви\n",
      "Collecting data 143 / 234 for tag хочунамастерклассспб\n",
      "Collecting data 144 / 234 for tag мастеркласспосозданиютона\n",
      "Collecting data 145 / 234 for tag мкхолодныйфарфор\n",
      "Collecting data 146 / 234 for tag мкцветочнаяскульптура\n",
      "Collecting data 147 / 234 for tag мастерклассывкраснодаре\n",
      "Collecting data 148 / 234 for tag abakery_детскиймк\n",
      "Collecting data 149 / 234 for tag мастеркласспокукле\n",
      "Collecting data 150 / 234 for tag мкгатчина\n",
      "Collecting data 151 / 234 for tag мкпокаллиграфии\n",
      "Collecting data 152 / 234 for tag самарамастерклассы\n",
      "Collecting data 153 / 234 for tag экомк\n",
      "Collecting data 154 / 234 for tag мккерамикаспб\n",
      "Collecting data 155 / 234 for tag мккерамика\n",
      "Collecting data 156 / 234 for tag керамикамк\n",
      "Collecting data 157 / 234 for tag мастеркласскраснодар\n",
      "Collecting data 158 / 234 for tag мастерклассыгатчина\n",
      "Collecting data 159 / 234 for tag мастерклассперманент\n",
      "Collecting data 160 / 234 for tag мкнаращиваниеволосспб\n",
      "Collecting data 161 / 234 for tag вышивкамк\n",
      "Collecting data 162 / 234 for tag мастерклассвышивка\n",
      "Collecting data 163 / 234 for tag брошьмк\n",
      "Collecting data 164 / 234 for tag мкброшьспб\n",
      "Collecting data 165 / 234 for tag онлайнмк\n",
      "Collecting data 166 / 234 for tag мастеркласснадр\n",
      "Collecting data 167 / 234 for tag мкдлядетейспб\n",
      "Collecting data 168 / 234 for tag мккрючком\n",
      "Collecting data 169 / 234 for tag мкполеттерингу\n",
      "Collecting data 170 / 234 for tag мккорзинка\n",
      "Collecting data 171 / 234 for tag батикмастеркласс\n",
      "Collecting data 172 / 234 for tag мастеркласспофлористикеспб\n",
      "Collecting data 173 / 234 for tag мкногти_видео\n",
      "Collecting data 174 / 234 for tag мкногти\n",
      "Collecting data 175 / 234 for tag мкirengloss\n",
      "Collecting data 176 / 234 for tag мккокосы\n",
      "Collecting data 177 / 234 for tag мкэпоксиднаясмола\n",
      "Collecting data 178 / 234 for tag мастеркласспопледуспб\n",
      "Collecting data 179 / 234 for tag мастерклассповяз\n",
      "Collecting data 180 / 234 for tag цветочныймастеркласс\n",
      "Collecting data 181 / 234 for tag мкфлористика\n",
      "Collecting data 182 / 234 for tag мкдлясамыхмаленьких\n",
      "Collecting data 183 / 234 for tag мастеркласспофлористике\n",
      "Collecting data 184 / 234 for tag мастерклассфллристика\n",
      "Collecting data 185 / 234 for tag мкмэрикэй\n",
      "Collecting data 186 / 234 for tag мк_studio_11\n",
      "Collecting data 187 / 234 for tag мквитражпитер\n",
      "Collecting data 188 / 234 for tag мкпетербург\n",
      "Collecting data 189 / 234 for tag мкпоприческамспб\n",
      "Collecting data 190 / 234 for tag мастерклассакрил\n",
      "Collecting data 191 / 234 for tag мастеркласспосумкамспб\n",
      "Collecting data 192 / 234 for tag мкжук\n",
      "Collecting data 193 / 234 for tag мкекб\n",
      "Collecting data 194 / 234 for tag мастерклассмакраме\n",
      "Collecting data 195 / 234 for tag скрапбукиегмастеркласс\n",
      "Collecting data 196 / 234 for tag мастерклассскрапбукингспб\n",
      "Collecting data 197 / 234 for tag мастеркласспополимернойглине\n",
      "Collecting data 198 / 234 for tag мк_кошкина\n",
      "Collecting data 199 / 234 for tag мастерклассдети\n",
      "Collecting data 200 / 234 for tag мккурган\n",
      "Collecting data 201 / 234 for tag макрамемк\n",
      "Collecting data 202 / 234 for tag макрамемастеркласс\n",
      "Collecting data 203 / 234 for tag бесплатныймк\n",
      "Collecting data 204 / 234 for tag спиртовыечерниламк\n",
      "Collecting data 205 / 234 for tag мастерклассмозаика\n",
      "Collecting data 206 / 234 for tag мкманикюр\n",
      "Collecting data 207 / 234 for tag мастерклассывсамаре\n",
      "Collecting data 208 / 234 for tag самарамастеркласс\n",
      "Collecting data 209 / 234 for tag мастеркласснадевичникспб\n",
      "Collecting data 210 / 234 for tag мастеркласснакорпоративмск\n",
      "Collecting data 211 / 234 for tag мастерклассмск\n",
      "Collecting data 212 / 234 for tag мастерклассживопись\n",
      "Collecting data 213 / 234 for tag творческиймастеркласс\n",
      "Collecting data 214 / 234 for tag мастерклассвсеволожск\n",
      "Collecting data 215 / 234 for tag летниемастерклассы\n",
      "Collecting data 216 / 234 for tag мастерклассантоновой\n",
      "Collecting data 217 / 234 for tag мклетягина\n",
      "Collecting data 218 / 234 for tag мкростов\n",
      "Collecting data 219 / 234 for tag мкдетскаяшапка\n",
      "Collecting data 220 / 234 for tag мкшапкаспицами\n",
      "Collecting data 221 / 234 for tag мкшапка\n",
      "Collecting data 222 / 234 for tag мквязаниеспицами\n",
      "Collecting data 223 / 234 for tag гастромастеркласс\n",
      "Collecting data 224 / 234 for tag мккорона\n",
      "Collecting data 225 / 234 for tag эпоксиднаясмоламастеркласс\n",
      "Collecting data 226 / 234 for tag мкфьюзинг\n",
      "Collecting data 227 / 234 for tag мкмозаика\n",
      "Collecting data 228 / 234 for tag мкукрашения\n",
      "Collecting data 229 / 234 for tag мквподарок\n",
      "Collecting data 230 / 234 for tag мастерклассвитраж\n",
      "Collecting data 231 / 234 for tag мкшоколадныйдекор\n",
      "Collecting data 232 / 234 for tag мастерклассэпоксиднаясмола\n",
      "Collecting data 233 / 234 for tag мастерклассадисмаммо\n",
      "Collecting data 234 / 234 for tag мкшоколадныйпион\n"
     ]
    }
   ],
   "source": [
    "posts_mining.get_all_posts(fc._data[\"item\"], path=os.path.join(example_path, \"posts\"), max_pages=10)"
   ]
  },
  {
   "cell_type": "code",
   "execution_count": 20,
   "metadata": {},
   "outputs": [],
   "source": [
    "updated_posts = files.merge_csv(os.path.join(example_path, \"posts\"))"
   ]
  },
  {
   "cell_type": "code",
   "execution_count": 21,
   "metadata": {},
   "outputs": [],
   "source": [
    "updated_posts.dropna(inplace=True)"
   ]
  },
  {
   "cell_type": "code",
   "execution_count": 22,
   "metadata": {},
   "outputs": [
    {
     "data": {
      "text/plain": [
       "(93837, 7)"
      ]
     },
     "execution_count": 22,
     "metadata": {},
     "output_type": "execute_result"
    }
   ],
   "source": [
    "updated_posts.shape"
   ]
  },
  {
   "cell_type": "markdown",
   "metadata": {},
   "source": [
    "# Фильтрация объявлений"
   ]
  },
  {
   "cell_type": "markdown",
   "metadata": {},
   "source": [
    "Добавляем признаки"
   ]
  },
  {
   "cell_type": "code",
   "execution_count": 23,
   "metadata": {},
   "outputs": [],
   "source": [
    "updated_posts = (updated_posts.pipe(fext.add_price)\n",
    "                .pipe(fext.add_contacts)\n",
    "                .pipe(fext.add_tags))"
   ]
  },
  {
   "cell_type": "markdown",
   "metadata": {},
   "source": [
    "Оставляем посты, которые содержат указание хотя бы на один тип контактов (директ или телефон) или цену."
   ]
  },
  {
   "cell_type": "code",
   "execution_count": 36,
   "metadata": {},
   "outputs": [
    {
     "name": "stdout",
     "output_type": "stream",
     "text": [
      "Number of posts with duplicates: 36055\n",
      "Number of posts without duplicates: 23924\n"
     ]
    }
   ],
   "source": [
    "price_filter = updated_posts[\"price\"] > 0\n",
    "contact_filter = updated_posts[[\"phone_number\", \"direct\"]].notnull().any(axis=1)\n",
    "\n",
    "workshops = updated_posts[price_filter | contact_filter]\n",
    "print(f\"Number of posts with duplicates: {workshops.shape[0]}\")\n",
    "workshops = workshops.pipe(fext.drop_duplicates)\n",
    "print(f\"Number of posts without duplicates: {workshops.shape[0]}\")"
   ]
  },
  {
   "cell_type": "markdown",
   "metadata": {},
   "source": [
    "# Обработка текстовых признаков"
   ]
  },
  {
   "cell_type": "markdown",
   "metadata": {},
   "source": [
    "Для предобработки текстовых данных используем класс TextProcessing в котором доступен следующий функционал:\n",
    "- токенайзер с двумя режимами - обычный для слов и вероятностный (nospace) для тэгов;\n",
    "- лемматизация при помощи библиотеки pymorphy2 с возможностью использовать только определенные части речи;\n",
    "- удаление стоп слов."
   ]
  },
  {
   "cell_type": "code",
   "execution_count": 37,
   "metadata": {},
   "outputs": [
    {
     "name": "stdout",
     "output_type": "stream",
     "text": [
      "Wall time: 2min 24s\n"
     ]
    }
   ],
   "source": [
    "%%time\n",
    "\n",
    "non_tag_pat = \"(?<![#а-я])[а-я]+(?!\\S)\"  # собираем данные для тэгов и текста раздельно\n",
    "allowed_pos = {\"ADJF\", \"NOUN\"}  # для текста оставляем только прилагательные и существительные\n",
    "\n",
    "text_data = TextProcessing(token_pat=non_tag_pat, allowed_pos=allowed_pos).transform(workshops[\"text\"])"
   ]
  },
  {
   "cell_type": "code",
   "execution_count": 38,
   "metadata": {},
   "outputs": [
    {
     "data": {
      "text/plain": [
       "0     [небольшой, том, сегодняшний, класс, участница...\n",
       "5     [цивилизация, второе, способ, натягивание, осн...\n",
       "8     [запись, живой, класс, ткачество, подробность,...\n",
       "9     [небольшой, теоретический, какой, инструмент, ...\n",
       "10    [класс, техника, покупка, сайт, класс, процесс...\n",
       "Name: text, dtype: object"
      ]
     },
     "execution_count": 38,
     "metadata": {},
     "output_type": "execute_result"
    }
   ],
   "source": [
    "text_data.head()"
   ]
  },
  {
   "cell_type": "markdown",
   "metadata": {},
   "source": [
    "Для разделения тэгов с помощью вероятностного подхода необходимо посчитать частоты слов на максимальном количестве текстовых данных"
   ]
  },
  {
   "cell_type": "code",
   "execution_count": 39,
   "metadata": {},
   "outputs": [
    {
     "name": "stdout",
     "output_type": "stream",
     "text": [
      "Wall time: 4.85 s\n"
     ]
    }
   ],
   "source": [
    "%%time\n",
    "\n",
    "non_tag_tokenizer = TextProcessing(token_pat=non_tag_pat).tokenize\n",
    "counter = FreqCounter().fit(updated_posts[\"text\"].map(non_tag_tokenizer))._freqs"
   ]
  },
  {
   "cell_type": "markdown",
   "metadata": {},
   "source": [
    "Искусственно добавляем частоты для городов и других специальных слов"
   ]
  },
  {
   "cell_type": "code",
   "execution_count": 40,
   "metadata": {},
   "outputs": [],
   "source": [
    "cities = pd.read_csv(\"./data/cities_.csv\", sep=\";\", header=None)[1]\n",
    "cities_freqs = {city: 100 for city in cities.values}\n",
    "\n",
    "special_words = pd.read_csv(\"./data/special_words.csv\", header=None)[1]\n",
    "sp_words_freqs = {word: 100 for word in special_words}"
   ]
  },
  {
   "cell_type": "markdown",
   "metadata": {},
   "source": [
    "В словаре более 47 тысяч слов"
   ]
  },
  {
   "cell_type": "code",
   "execution_count": 41,
   "metadata": {},
   "outputs": [
    {
     "data": {
      "text/plain": [
       "141447"
      ]
     },
     "execution_count": 41,
     "metadata": {},
     "output_type": "execute_result"
    }
   ],
   "source": [
    "counter.update(cities_freqs)\n",
    "counter.update(sp_words_freqs)\n",
    "len(counter)"
   ]
  },
  {
   "cell_type": "markdown",
   "metadata": {},
   "source": [
    "Разбиваем тэги на слова"
   ]
  },
  {
   "cell_type": "code",
   "execution_count": 43,
   "metadata": {},
   "outputs": [
    {
     "name": "stdout",
     "output_type": "stream",
     "text": [
      "Wall time: 2min 53s\n"
     ]
    }
   ],
   "source": [
    "%%time\n",
    "\n",
    "tag_pat = re.compile(\"#([а-я]+)\")\n",
    "\n",
    "tag_data = TextProcessing(token_pat=tag_pat, mode=\"nospace\", counter=counter).transform(workshops[\"tags\"])"
   ]
  },
  {
   "cell_type": "markdown",
   "metadata": {},
   "source": [
    "Неудавшиеся разбиения убираем"
   ]
  },
  {
   "cell_type": "code",
   "execution_count": 44,
   "metadata": {},
   "outputs": [],
   "source": [
    "tag_data = tag_data.map(lambda x: [w for w in x if len(w) > 2])"
   ]
  },
  {
   "cell_type": "markdown",
   "metadata": {},
   "source": [
    "# Рекомендации\n",
    "Делаем  по просмотру постов на основании \"похожести\" текстовых данных"
   ]
  },
  {
   "cell_type": "code",
   "execution_count": null,
   "metadata": {},
   "outputs": [],
   "source": [
    "class CustomTfidf(TfidfVectorizer):\n",
    "    \"\"\"\n",
    "    Skip feature analysis for vectorizer\n",
    "    \"\"\"\n",
    "    def build_analizer(self):\n",
    "        return lambda x: x"
   ]
  },
  {
   "cell_type": "code",
   "execution_count": 45,
   "metadata": {},
   "outputs": [],
   "source": [
    "train_data = text_data + tag_data"
   ]
  },
  {
   "cell_type": "code",
   "execution_count": 46,
   "metadata": {},
   "outputs": [
    {
     "name": "stdout",
     "output_type": "stream",
     "text": [
      "Wall time: 763 ms\n"
     ]
    }
   ],
   "source": [
    "%%time\n",
    "\n",
    "tfidf = TfidfVectorizer(max_df=0.95, min_df=2, analyzer=lambda x: x)  # skip analysis\n",
    "train_data = tfidf.fit_transform(train_data)"
   ]
  },
  {
   "cell_type": "code",
   "execution_count": 47,
   "metadata": {},
   "outputs": [
    {
     "data": {
      "text/plain": [
       "NearestNeighbors(algorithm='brute', leaf_size=30, metric='cosine',\n",
       "         metric_params=None, n_jobs=None, n_neighbors=5, p=2, radius=1.0)"
      ]
     },
     "execution_count": 47,
     "metadata": {},
     "output_type": "execute_result"
    }
   ],
   "source": [
    "model_knn = NearestNeighbors(metric='cosine', algorithm='brute')\n",
    "model_knn.fit(train_data)"
   ]
  },
  {
   "cell_type": "code",
   "execution_count": 52,
   "metadata": {
    "scrolled": false
   },
   "outputs": [
    {
     "name": "stdout",
     "output_type": "stream",
     "text": [
      "Recs for \n",
      "Мастер-класс от Артёма Сидорова @artemsidorov\n",
      "🔽\n",
      "СТИЛЬ: hip-hop;\n",
      "🔽\n",
      "ДАТА: 26 мая 2019 / воскресенье;\n",
      "🔽\n",
      "ВРЕМЯ: 15:00 - 16:30;\n",
      "🔽\n",
      "ЦЕНА: 700 - 900 рублей;\n",
      "🔽\n",
      "Подробности и запись в @master.place @alexlensk;\n",
      "🔽\n",
      "АДРЕС: Школа танцев \"Master place\". Метро Садовая, переулок Гривцова, дом 6.\n",
      "🔽\n",
      "#всетанцыспб #мастерклассыспб #танцы #танцор #танцовщик #танцыспб #спб #питер #spb #танцывпитере #танцыпитер #танцынатнт #dance #танцуйкакчувствуешь #танцуйсвободно #безкомплексов #танцуйвсегда #танцуйвезде #люблюточтоделаю #мастеркласс #хипхоп #hiphop #мкспб26_05_19: \n",
      "\n",
      "1: Мастер-класс от Ankoo @ankoo_tha_ninetailz\n",
      "🔽\n",
      "СТИЛЬ: hip-hop;\n",
      "🔽\n",
      "ДАТА: 26 мая 2019 / воскресенье;\n",
      "🔽\n",
      "ВРЕМЯ: 19:00 - 21:00;\n",
      "🔽\n",
      "ЦЕНА: 600 рублей;\n",
      "🔽\n",
      "Подробности и запись в профиле WORKSHOPS / SOYO;\n",
      "🔽\n",
      "АДРЕС: Школа танцев \"Master place\". Метро Садовая, переулок Гривцова, дом 6.\n",
      "🔽\n",
      "#всетанцыспб #мастерклассыспб #танцы #танцор #танцовщик #танцыспб #спб #питер #spb #танцывпитере #танцыпитер #танцынатнт #dance #танцуйкакчувствуешь #танцуйсвободно #безкомплексов #танцуйвсегда #танцуйвезде #люблюточтоделаю #мастеркласс #хипхоп #hiphop #мкспб26_05_19, with distance of 0.00789896934285339 \n",
      "\n",
      "2: Курс для начинающих. Марк Куклин @mark__kuklin\n",
      "⭐️\n",
      "СТИЛЬ: CHOREO;\n",
      "⭐️\n",
      "ДАТА: 06 мая - 30 мая 2019 / пн - чт;\n",
      "⭐️\n",
      "ВРЕМЯ: 19:00 - 21:00 (16 часов);\n",
      "⭐️\n",
      "ЦЕНА: 4000 рублей;\n",
      "⭐️\n",
      "Подробности и запись в группе вконтакте HD Community;\n",
      "⭐️\n",
      "АДРЕС: Школа танцев \"Baza\" @baza_dance. Метро Чкаловская, Большая Разночинная, дом 24;\n",
      "⭐️\n",
      "#всетанцыспб #мастерклассыспб #танцы #танцор #танцовщик #танцыспб #спб #питер #spb #танцывпитере #танцыпитер #танцынатнт #dance #танцуйкакчувствуешь #танцуйсвободно #безкомплексов #танцуйвсегда #танцуйвезде #люблюточтоделаю #курс #курсспб05_19, with distance of 0.04272319920884171 \n",
      "\n",
      "3: Мастер-класс от Алёны Колено\n",
      "⭐️\n",
      "СТИЛЬ: afro;\n",
      "⭐️\n",
      "ДАТА: 19 мая 2019 / воскресенье;\n",
      "⭐️\n",
      "ВРЕМЯ: 19:00 - 20:30;\n",
      "⭐️\n",
      "ЦЕНА: 250 - 300 рублей;\n",
      "⭐️\n",
      "Подробности и запись в профиле @alenakoleno ;\n",
      "⭐️\n",
      "АДРЕС: Школа танцев \"Baza\" @baza_dance. Метро Чкаловская, Большая Разночинная, дом 24;\n",
      "⭐️\n",
      "#всетанцыспб #мастерклассыспб #танцы #танцор #танцовщик #танцыспб #спб #питер #spb #танцывпитере #танцыпитер #танцынатнт #dance #танцуйкакчувствуешь #танцуйсвободно #безкомплексов #танцуйвсегда #танцуйвезде #люблюточтоделаю #мастеркласс #хаус #house #афро #афрохаус #afrohouse #мкспб19_05_19, with distance of 0.0851176656084931 \n",
      "\n",
      "4: Хорошая погода у вас за окном?:) настала пора снимать крутые видосики на улицах ваших городов, как это сделала Юля:) выходите из дома и танцуйте, ведь скоро лето🤗🤗🤗 юхууууу🔥🔥🔥\n",
      "⠀\n",
      "Choreo: @yulenkagrin \n",
      "Song: @victoriamonet - love u better\n",
      "Dance: @_grenochki_ @sonya_sonushka ⠀\n",
      "Ставь лайк♥️ подписывайся если понравилось!🔝\n",
      "⠀\n",
      "Хочешь попасть к нам в ленту? Ставь #todesws, отмечай нас @todes_workshop или присылай свои видео нам в директ.\n",
      "—————————————————————\n",
      "📲8 (800) 600-05-05 горячая линия ТОДЕС\n",
      "📩Master-class@todes.ru\n",
      "—————————————————————\n",
      "#тодес #todes #workshop #мастеркласс #танцыдлядетей #танцы #dance #moscow #russia #choreo #танец #dancevideo #dance #danceteam\n",
      "#choreography #хореограф #студиятанца #танцыдети #танцыдлявзрослых #школатанцев #choreographer #dancer #mood #vibes, with distance of 0.2622984664470155 \n",
      "\n",
      "5: Дорогие дамы! Приближается лето, а за ним новый танцевальный сезон. Из соображений \"готовь сани летом\", предлагаю вам постановку \"Межансе\" под невероятно красивую и разноритмовую композицию. Ещё осталась пара свободных мест в большом красивом зале студии \"Люис Лофт\". Стоимость двухчасового класса всего 1500 рублей. Если есть вопросы-не стесняйтесь, задавайте в ЛС! 😉\n",
      "С уважением, Ратхан.\n",
      "#ратхан #арабскийтанец #восточныйтанец #танецживота #танцуйсомной #танцующаямосква #танцыэтожизнь #танцывмоскве #уроктанца #занятиятанцами #мастеркласс #учимсятанцевать #bellydance #bellydancer #danceinmoscow #dancewithme #orientaldance #orientaldancer #dancer #danceislife #ratxan #workshop, with distance of 0.2983016535154768 \n",
      "\n",
      "Wall time: 24.9 ms\n"
     ]
    }
   ],
   "source": [
    "%%time\n",
    "\n",
    "query_index = np.random.choice(workshops.shape[0])\n",
    "distances, indicies = model_knn.kneighbors(train_data[query_index], n_neighbors=6)\n",
    "\n",
    "for i in range(len(distances.flatten())):\n",
    "    if i == 0:\n",
    "        print(\"Recs for \\n{0}: \\n\".format(workshops[\"text\"].iloc[query_index]))\n",
    "    else:\n",
    "        print(\"{0}: {1}, with distance of {2} \\n\".format(i, workshops[\"text\"].iloc[indicies.flatten()[i]], distances.flatten()[i]))"
   ]
  },
  {
   "cell_type": "code",
   "execution_count": null,
   "metadata": {},
   "outputs": [],
   "source": []
  }
 ],
 "metadata": {
  "kernelspec": {
   "display_name": "Python 3",
   "language": "python",
   "name": "python3"
  },
  "language_info": {
   "codemirror_mode": {
    "name": "ipython",
    "version": 3
   },
   "file_extension": ".py",
   "mimetype": "text/x-python",
   "name": "python",
   "nbconvert_exporter": "python",
   "pygments_lexer": "ipython3",
   "version": "3.7.1"
  }
 },
 "nbformat": 4,
 "nbformat_minor": 2
}
