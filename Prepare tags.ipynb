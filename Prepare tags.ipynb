{
 "cells": [
  {
   "cell_type": "markdown",
   "metadata": {},
   "source": []
  },
  {
   "cell_type": "code",
   "execution_count": 3,
   "metadata": {},
   "outputs": [],
   "source": [
    "import requests\n",
    "import re\n",
    "import json\n",
    "from collections import Counter\n",
    "\n",
    "import pandas as pd\n",
    "import numpy as np\n",
    "\n",
    "from sklearn.feature_extraction.text import CountVectorizer\n",
    "\n",
    "from data_utils import data_helper as dahel\n",
    "\n",
    "pd.set_option(\"display.max_rows\", 10)"
   ]
  },
  {
   "cell_type": "markdown",
   "metadata": {},
   "source": [
    "Начальный набор данных, собранных по хэш тэгу \"мастерклассспб\""
   ]
  },
  {
   "cell_type": "code",
   "execution_count": 4,
   "metadata": {},
   "outputs": [],
   "source": [
    "init_data = pd.read_csv(\"./data/tags/init_tags_data.csv\", sep=\";\", index_col=0)\n",
    "init_data.dropna(inplace=True)\n",
    "init_data = init_data[init_data[\"is_video\"]==False]"
   ]
  },
  {
   "cell_type": "code",
   "execution_count": 16,
   "metadata": {},
   "outputs": [
    {
     "data": {
      "text/plain": [
       "(19217, 6)"
      ]
     },
     "execution_count": 16,
     "metadata": {},
     "output_type": "execute_result"
    }
   ],
   "source": [
    "init_data.shape"
   ]
  },
  {
   "cell_type": "code",
   "execution_count": 15,
   "metadata": {},
   "outputs": [
    {
     "data": {
      "text/html": [
       "<div>\n",
       "<style scoped>\n",
       "    .dataframe tbody tr th:only-of-type {\n",
       "        vertical-align: middle;\n",
       "    }\n",
       "\n",
       "    .dataframe tbody tr th {\n",
       "        vertical-align: top;\n",
       "    }\n",
       "\n",
       "    .dataframe thead th {\n",
       "        text-align: right;\n",
       "    }\n",
       "</style>\n",
       "<table border=\"1\" class=\"dataframe\">\n",
       "  <thead>\n",
       "    <tr style=\"text-align: right;\">\n",
       "      <th></th>\n",
       "      <th>post_id</th>\n",
       "      <th>text</th>\n",
       "      <th>date</th>\n",
       "      <th>likes</th>\n",
       "      <th>owner_id</th>\n",
       "      <th>is_video</th>\n",
       "    </tr>\n",
       "  </thead>\n",
       "  <tbody>\n",
       "    <tr>\n",
       "      <th>0</th>\n",
       "      <td>BBw6DuMlwRa</td>\n",
       "      <td>Скрапбукинг и Сёрфинг созданы друг для друга😂🏄...</td>\n",
       "      <td>1.455448e+09</td>\n",
       "      <td>32</td>\n",
       "      <td>6.793465e+08</td>\n",
       "      <td>False</td>\n",
       "    </tr>\n",
       "    <tr>\n",
       "      <th>1</th>\n",
       "      <td>BGRBVuxCYp-</td>\n",
       "      <td>\"Яблоки.\" Бумага, пастель. Друзья, такой урове...</td>\n",
       "      <td>1.465115e+09</td>\n",
       "      <td>55</td>\n",
       "      <td>1.752571e+09</td>\n",
       "      <td>False</td>\n",
       "    </tr>\n",
       "    <tr>\n",
       "      <th>2</th>\n",
       "      <td>BJwYuf8DnLV</td>\n",
       "      <td>Делали  на МК с детишками картины из ниток)\\r\\...</td>\n",
       "      <td>1.472610e+09</td>\n",
       "      <td>7</td>\n",
       "      <td>2.207881e+09</td>\n",
       "      <td>False</td>\n",
       "    </tr>\n",
       "    <tr>\n",
       "      <th>3</th>\n",
       "      <td>BKa1dvchMCW</td>\n",
       "      <td>Море вдохновляет творить🐚🌊\\r\\r\\n.\\r\\r\\n\\r\\r\\nС...</td>\n",
       "      <td>1.474034e+09</td>\n",
       "      <td>25</td>\n",
       "      <td>2.306258e+09</td>\n",
       "      <td>False</td>\n",
       "    </tr>\n",
       "    <tr>\n",
       "      <th>4</th>\n",
       "      <td>BLbwuJuF9sD</td>\n",
       "      <td>Друзья, а у на отличная новость💥 Шьём на заказ...</td>\n",
       "      <td>1.476213e+09</td>\n",
       "      <td>21</td>\n",
       "      <td>2.306258e+09</td>\n",
       "      <td>False</td>\n",
       "    </tr>\n",
       "  </tbody>\n",
       "</table>\n",
       "</div>"
      ],
      "text/plain": [
       "       post_id                                               text  \\\n",
       "0  BBw6DuMlwRa  Скрапбукинг и Сёрфинг созданы друг для друга😂🏄...   \n",
       "1  BGRBVuxCYp-  \"Яблоки.\" Бумага, пастель. Друзья, такой урове...   \n",
       "2  BJwYuf8DnLV  Делали  на МК с детишками картины из ниток)\\r\\...   \n",
       "3  BKa1dvchMCW  Море вдохновляет творить🐚🌊\\r\\r\\n.\\r\\r\\n\\r\\r\\nС...   \n",
       "4  BLbwuJuF9sD  Друзья, а у на отличная новость💥 Шьём на заказ...   \n",
       "\n",
       "           date likes      owner_id is_video  \n",
       "0  1.455448e+09    32  6.793465e+08    False  \n",
       "1  1.465115e+09    55  1.752571e+09    False  \n",
       "2  1.472610e+09     7  2.207881e+09    False  \n",
       "3  1.474034e+09    25  2.306258e+09    False  \n",
       "4  1.476213e+09    21  2.306258e+09    False  "
      ]
     },
     "execution_count": 15,
     "metadata": {},
     "output_type": "execute_result"
    }
   ],
   "source": [
    "init_data.head()"
   ]
  },
  {
   "cell_type": "markdown",
   "metadata": {},
   "source": [
    "Пайплайн для обновления множества тэгов:\n",
    "- Собираем тэги из уже имеющихся данных\n",
    "- Отбираем топовые, возможные метрики - частота в данных, уровень вовлеченности в пересчете на пост и др.\n",
    "- Оставляем те, которые указывают на МК"
   ]
  },
  {
   "cell_type": "code",
   "execution_count": 37,
   "metadata": {},
   "outputs": [],
   "source": [
    "class FreqCounter:\n",
    "    def __init__(self, quant=0.85, pattern=r\"\\w+\"):\n",
    "        self._pattern = re.compile(pattern)\n",
    "        self._freqs = Counter()\n",
    "        self._quant = quant\n",
    "        self._data = pd.DataFrame()\n",
    "        \n",
    "    def _tokenize(self, iterable):\n",
    "        for row in iterable:\n",
    "            yield re.findall(self._pattern, row)\n",
    "    \n",
    "    def fit(self, iterable):\n",
    "        for term in self._tokenize(iterable):\n",
    "            self._freqs.update(term)\n",
    "        \n",
    "        self._data = (pd.Series(self._freqs)\n",
    "                    .sort_values(ascending=False)\n",
    "                    .reset_index()\n",
    "                    .rename({\"index\": \"tag\", 0: \"freq\"}, axis=1))\n",
    "        return self\n",
    "    \n",
    "    @property\n",
    "    def top_tags(self):\n",
    "        return set(self._data[\"tag\"][self._data[\"freq\"] > self._data[\"freq\"].quantile(self._quant)])"
   ]
  },
  {
   "cell_type": "code",
   "execution_count": 38,
   "metadata": {},
   "outputs": [],
   "source": [
    "pat = re.compile(\"#(\\w*мастеркласс\\w*|мк\\w*|\\w*мк)(?=[#\\W]|$)\")\n",
    "fc = FreqCounter(pattern=pat).fit(init_data[\"text\"])\n",
    "\n",
    "fc.top_tags\n",
    "\n",
    "fc._data.head(20).plot(x=\"tag\", kind=\"bar\", logy=True);"
   ]
  },
  {
   "cell_type": "markdown",
   "metadata": {},
   "source": [
    "Используем этот вариант!"
   ]
  },
  {
   "cell_type": "code",
   "execution_count": null,
   "metadata": {},
   "outputs": [],
   "source": [
    "mk_tags.reset_index(drop=True).to_csv(\"./data/main_tags.csv\")"
   ]
  },
  {
   "cell_type": "markdown",
   "metadata": {},
   "source": [
    "# Кластеризация тэгов just for fun"
   ]
  },
  {
   "cell_type": "code",
   "execution_count": null,
   "metadata": {},
   "outputs": [],
   "source": [
    "from sklearn.feature_extraction.text import TfidfVectorizer\n",
    "from sklearn.cluster import KMeans\n",
    "from sklearn import metrics\n",
    "\n",
    "import matplotlib.pyplot as plt"
   ]
  },
  {
   "cell_type": "code",
   "execution_count": null,
   "metadata": {},
   "outputs": [],
   "source": [
    "class KMeansAnalizer:\n",
    "    \"\"\"\n",
    "    Класс для определения кол-ва кластеров\n",
    "    \"\"\"\n",
    "    def __init__(self, clusterer, data, verbose=False):\n",
    "        self._clusterer = clusterer\n",
    "        self._data = data\n",
    "        self._verbose = verbose\n",
    "        self._inertia = {}\n",
    "        self._labels = {}\n",
    "        self._silhouette = {}\n",
    "        \n",
    "    def explore(self, range_inst: \"range\"):\n",
    "        for k in range_inst:\n",
    "            if k in self._inertia:\n",
    "                continue\n",
    "            if self._verbose:\n",
    "                print(f\"fitting {k} clusters\")\n",
    "            self._clusterer.n_clusters = k\n",
    "            self._clusterer.init_size = k * 3\n",
    "            self._clusterer.fit(self._data)\n",
    "            self._inertia.update({k: np.sqrt(self._clusterer.inertia_)})\n",
    "            self._labels.update({k: self._clusterer.labels_})\n",
    "            \n",
    "    def plot_elbow(self):\n",
    "        plt.plot(self._inertia.keys(), self._inertia.values(), marker='s');\n",
    "        plt.xlabel('$k$')\n",
    "        plt.ylabel('$J(C_k)$');\n",
    "        \n",
    "    def _calculate_silhouette(self):\n",
    "        for k, labels in self._labels.items():\n",
    "            if k not in self._silhouette:\n",
    "                if self._verbose:\n",
    "                    print(f\"Calculating silhouette for {k} clusters\")\n",
    "                self._silhouette.update({k: metrics.silhouette_score(self._data, labels)})\n",
    "        \n",
    "    def plot_silhouette(self):\n",
    "        self._calculate_silhouette()\n",
    "        plt.plot(self._silhouette.keys(), self._silhouette.values(), marker='s');\n",
    "        plt.xlabel('$k$')\n",
    "        plt.ylabel('$Silhouette$');"
   ]
  },
  {
   "cell_type": "code",
   "execution_count": null,
   "metadata": {},
   "outputs": [],
   "source": [
    "vect_params = {\n",
    "    \"ngram_range\": (2, 5),\n",
    "    \"analyzer\": \"char_wb\",\n",
    "    \"max_df\": .90,\n",
    "    \"min_df\": 2,\n",
    "}\n",
    "tfidf = TfidfVectorizer(**vect_params)\n",
    "X = tfidf.fit_transform(tags[\"tag\"])\n",
    "\n",
    "km = KMeans()\n",
    "km.fit(X)\n",
    "\n",
    "kma = KMeansAnalizer(km, X)\n",
    "\n",
    "kma.explore(range(2, 100))\n",
    "\n",
    "kma.plot_elbow()\n",
    "\n",
    "kma.plot_silhouette()\n",
    "\n",
    "km1 = KMeans(n_clusters=50)\n",
    "km1.fit(X)\n",
    "\n",
    "clustered_tags = tags.assign(labels=km1.labels_).groupby(\"labels\")[\"tag\"].apply(lambda x: np.unique(x))\n",
    "\n",
    "for c in clustered_tags:\n",
    "    print(c)"
   ]
  }
 ],
 "metadata": {
  "kernelspec": {
   "display_name": "Python 3",
   "language": "python",
   "name": "python3"
  },
  "language_info": {
   "codemirror_mode": {
    "name": "ipython",
    "version": 3
   },
   "file_extension": ".py",
   "mimetype": "text/x-python",
   "name": "python",
   "nbconvert_exporter": "python",
   "pygments_lexer": "ipython3",
   "version": "3.7.1"
  }
 },
 "nbformat": 4,
 "nbformat_minor": 2
}
