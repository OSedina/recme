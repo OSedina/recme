{
 "cells": [
  {
   "cell_type": "markdown",
   "metadata": {},
   "source": [
    "# Данные\n",
    "\n",
    "1. <span>&check;</span> Отобрать n тэгов вручную \n",
    "2. <span>&check;</span> Собрать первые данные вручную\n",
    "3. <span>&check;</span> Написать модуль для классификации постов-объявлений о мастерклассе (далее - объявления) \n",
    "4. написать модуль для классификации по темам\n",
    "    - <span>&check;</span> выделить темы\n",
    "    - разметить данные\n",
    "    - сделать API модели\n",
    "5. написать модуль для обновления можества тэгов, множества аккаунтов, постящих объявления\n",
    "\n",
    "6. Для постов, определенных, как объявления собрать данные о лайках пользователей.\n",
    "\n",
    "\n",
    "Начало работы с Django\n",
    "- Сбор данных постов по тэгам в БД (взаимодействие с БД должны осуществлять модели Django)\n",
    "    - (ML) классификация поста как объявления о проведении мк\n",
    "    - обновление данных для заданного множества тэгов по расписанию\n",
    "    - обновление множества тэгов на основании собранных данных\n",
    "    - логирование\n",
    "    - тесты\n",
    "\n"
   ]
  },
  {
   "cell_type": "markdown",
   "metadata": {},
   "source": [
    "Задачи обработки текста\n",
    "\n",
    "1. Общие моменты:\n",
    "    - препроцессинг\n",
    "    - токенизация\n",
    "    - анализ\n",
    "\n",
    "2. Классификация постов о мастерклассе:\n",
    "- добавить признаки\n",
    "- делать фильтрацию\n",
    "\n",
    "3. Выделение тем"
   ]
  },
  {
   "cell_type": "code",
   "execution_count": 7,
   "metadata": {},
   "outputs": [
    {
     "name": "stderr",
     "output_type": "stream",
     "text": [
      "[nltk_data] Downloading package stopwords to\n",
      "[nltk_data]     C:\\Users\\dreps350\\AppData\\Roaming\\nltk_data...\n",
      "[nltk_data]   Package stopwords is already up-to-date!\n"
     ]
    }
   ],
   "source": [
    "import os\n",
    "import re\n",
    "import random\n",
    "from importlib import reload\n",
    "\n",
    "import pandas as pd\n",
    "pd.set_option(\"display.max_rows\", 10)\n",
    "\n",
    "import numpy as np\n",
    "import matplotlib.pyplot as plt\n",
    "\n",
    "from sklearn.feature_extraction.text import TfidfVectorizer, CountVectorizer\n",
    "from sklearn.cluster import KMeans, MiniBatchKMeans\n",
    "from sklearn.decomposition import LatentDirichletAllocation\n",
    "\n",
    "from data_utils import data_helper as dahel\n",
    "from data_utils.preprocessing import TextPreprocessor, FeatureExtractor\n",
    "\n",
    "import nltk\n",
    "nltk.download(\"stopwords\")\n",
    "from nltk.corpus import stopwords\n",
    "from pymystem3 import Mystem\n",
    "from string import punctuation"
   ]
  },
  {
   "cell_type": "code",
   "execution_count": null,
   "metadata": {},
   "outputs": [],
   "source": [
    "!ls ./data"
   ]
  },
  {
   "cell_type": "markdown",
   "metadata": {},
   "source": [
    "# Отбор тэгов вручную"
   ]
  },
  {
   "cell_type": "code",
   "execution_count": null,
   "metadata": {},
   "outputs": [],
   "source": [
    "tags = pd.read_csv(\"./data/main_tags.csv\", index_col=0)"
   ]
  },
  {
   "cell_type": "code",
   "execution_count": null,
   "metadata": {},
   "outputs": [],
   "source": [
    "tags.head(20)"
   ]
  },
  {
   "cell_type": "markdown",
   "metadata": {},
   "source": [
    "# Первые собранные данные:"
   ]
  },
  {
   "cell_type": "code",
   "execution_count": null,
   "metadata": {},
   "outputs": [],
   "source": [
    "%%time\n",
    "\n",
    "main_data = pd.read_csv(\"./data/main_posts.csv\", sep=\";\")"
   ]
  },
  {
   "cell_type": "code",
   "execution_count": null,
   "metadata": {},
   "outputs": [],
   "source": [
    "main_data.shape  # (795484, 7)"
   ]
  },
  {
   "cell_type": "code",
   "execution_count": null,
   "metadata": {},
   "outputs": [],
   "source": [
    "main_data.head()"
   ]
  },
  {
   "cell_type": "markdown",
   "metadata": {},
   "source": [
    "# Отбор постов-объявлений о мастерклассах"
   ]
  },
  {
   "cell_type": "markdown",
   "metadata": {},
   "source": [
    "- Признак tags сделать множеством\n",
    "- Убрать тэги из основного текста\n",
    "- Сделать препроцессинг основого текста (пунктуация, линшние символы)"
   ]
  },
  {
   "cell_type": "code",
   "execution_count": 8,
   "metadata": {},
   "outputs": [],
   "source": [
    "reload(dahel)\n",
    "\n",
    "fext = FeatureExtractor()"
   ]
  },
  {
   "cell_type": "code",
   "execution_count": 4,
   "metadata": {},
   "outputs": [],
   "source": [
    "# %%time\n",
    "\n",
    "# workshops_data = main_data.pipe(fext.filter_workshops)\n",
    "# workshops_data.to_csv(\"./data/main_workshops.csv\", sep=\";\", index=False)"
   ]
  },
  {
   "cell_type": "code",
   "execution_count": 9,
   "metadata": {},
   "outputs": [],
   "source": [
    "workshops_data = pd.read_csv(\"./data/main_workshops.csv\", sep=\";\")"
   ]
  },
  {
   "cell_type": "code",
   "execution_count": 10,
   "metadata": {},
   "outputs": [],
   "source": [
    "workshops_data = workshops_data.pipe(fext._add_tags)"
   ]
  },
  {
   "cell_type": "code",
   "execution_count": 11,
   "metadata": {},
   "outputs": [
    {
     "data": {
      "text/plain": [
       "(37482, 11)"
      ]
     },
     "execution_count": 11,
     "metadata": {},
     "output_type": "execute_result"
    }
   ],
   "source": [
    "workshops_data.shape  #(37461, 10)"
   ]
  },
  {
   "cell_type": "code",
   "execution_count": 12,
   "metadata": {},
   "outputs": [
    {
     "data": {
      "text/html": [
       "<div>\n",
       "<style scoped>\n",
       "    .dataframe tbody tr th:only-of-type {\n",
       "        vertical-align: middle;\n",
       "    }\n",
       "\n",
       "    .dataframe tbody tr th {\n",
       "        vertical-align: top;\n",
       "    }\n",
       "\n",
       "    .dataframe thead th {\n",
       "        text-align: right;\n",
       "    }\n",
       "</style>\n",
       "<table border=\"1\" class=\"dataframe\">\n",
       "  <thead>\n",
       "    <tr style=\"text-align: right;\">\n",
       "      <th></th>\n",
       "      <th>post_id</th>\n",
       "      <th>text</th>\n",
       "      <th>date</th>\n",
       "      <th>likes</th>\n",
       "      <th>owner_id</th>\n",
       "      <th>is_video</th>\n",
       "      <th>by_tag</th>\n",
       "      <th>phone_number</th>\n",
       "      <th>direct</th>\n",
       "      <th>price</th>\n",
       "      <th>tags</th>\n",
       "    </tr>\n",
       "  </thead>\n",
       "  <tbody>\n",
       "    <tr>\n",
       "      <th>0</th>\n",
       "      <td>3-9jrIxI65</td>\n",
       "      <td>@damarkelova ・・・\\r\\r\\nДоброе утро, друзья!! От...</td>\n",
       "      <td>1.434444e+09</td>\n",
       "      <td>199</td>\n",
       "      <td>1.101804e+09</td>\n",
       "      <td>False</td>\n",
       "      <td>акварельмк</td>\n",
       "      <td>89037727778</td>\n",
       "      <td>NaN</td>\n",
       "      <td>2200</td>\n",
       "      <td>{досуг, workshop, акварель, мастеркласс, досуг...</td>\n",
       "    </tr>\n",
       "    <tr>\n",
       "      <th>1</th>\n",
       "      <td>3vos8XRI98</td>\n",
       "      <td>Вечером в среду, после обеда...\\r\\r\\nЖдем вас ...</td>\n",
       "      <td>1.433930e+09</td>\n",
       "      <td>152</td>\n",
       "      <td>1.101804e+09</td>\n",
       "      <td>False</td>\n",
       "      <td>акварельмк</td>\n",
       "      <td>89037727778</td>\n",
       "      <td>NaN</td>\n",
       "      <td>2200</td>\n",
       "      <td>{цветы, workshop, мастеркласспоакварели, аквар...</td>\n",
       "    </tr>\n",
       "    <tr>\n",
       "      <th>2</th>\n",
       "      <td>3vxZIas4-H</td>\n",
       "      <td>#Repost @culture_club with @repostapp.\\r\\r\\n・・...</td>\n",
       "      <td>1.433935e+09</td>\n",
       "      <td>36</td>\n",
       "      <td>1.132830e+07</td>\n",
       "      <td>False</td>\n",
       "      <td>акварельмк</td>\n",
       "      <td>89037727778</td>\n",
       "      <td>NaN</td>\n",
       "      <td>2200</td>\n",
       "      <td>{цветы, workshop, мастеркласспоакварели, аквар...</td>\n",
       "    </tr>\n",
       "    <tr>\n",
       "      <th>3</th>\n",
       "      <td>6ey5mMh57E</td>\n",
       "      <td>Как и обещали, с радостью представляем вам нов...</td>\n",
       "      <td>1.439807e+09</td>\n",
       "      <td>9</td>\n",
       "      <td>9.591155e+08</td>\n",
       "      <td>False</td>\n",
       "      <td>акварельмк</td>\n",
       "      <td>8-963-328-37-28</td>\n",
       "      <td>NaN</td>\n",
       "      <td>2000</td>\n",
       "      <td>{рисуемакварельюшедевры, акварели, ботаника, р...</td>\n",
       "    </tr>\n",
       "    <tr>\n",
       "      <th>4</th>\n",
       "      <td>BhRt7-NF6lS</td>\n",
       "      <td>💞 Дорогие подписчики 💞\\r\\r\\n.\\r\\r\\n🌸 21 апреля...</td>\n",
       "      <td>1.523120e+09</td>\n",
       "      <td>50</td>\n",
       "      <td>1.909118e+09</td>\n",
       "      <td>False</td>\n",
       "      <td>акварельмк</td>\n",
       "      <td>7951-677-6710</td>\n",
       "      <td>NaN</td>\n",
       "      <td>2500</td>\n",
       "      <td>{петроградская, школарисования, сергейзиновкин...</td>\n",
       "    </tr>\n",
       "  </tbody>\n",
       "</table>\n",
       "</div>"
      ],
      "text/plain": [
       "       post_id                        ...                                                                       tags\n",
       "0   3-9jrIxI65                        ...                          {досуг, workshop, акварель, мастеркласс, досуг...\n",
       "1   3vos8XRI98                        ...                          {цветы, workshop, мастеркласспоакварели, аквар...\n",
       "2   3vxZIas4-H                        ...                          {цветы, workshop, мастеркласспоакварели, аквар...\n",
       "3   6ey5mMh57E                        ...                          {рисуемакварельюшедевры, акварели, ботаника, р...\n",
       "4  BhRt7-NF6lS                        ...                          {петроградская, школарисования, сергейзиновкин...\n",
       "\n",
       "[5 rows x 11 columns]"
      ]
     },
     "execution_count": 12,
     "metadata": {},
     "output_type": "execute_result"
    }
   ],
   "source": [
    "workshops_data.head()"
   ]
  },
  {
   "cell_type": "markdown",
   "metadata": {},
   "source": [
    "# Классификация по темам"
   ]
  },
  {
   "cell_type": "markdown",
   "metadata": {},
   "source": [
    "В качестве признаков используем хэш-тэги\n",
    "\n",
    "Поскольку изначально существующие темы неизвестны, для начала используем кластеризацию и преобразование Дирихле для выделения тем и ручной разметки данных."
   ]
  },
  {
   "cell_type": "markdown",
   "metadata": {},
   "source": [
    "## Токенизация хэш тэгов своим парсером"
   ]
  },
  {
   "cell_type": "code",
   "execution_count": null,
   "metadata": {},
   "outputs": [],
   "source": [
    "# \\ обозначает, что ключевое слово может стоять только в конце или начале тэга\n",
    "\n",
    "key_words = {\n",
    "    \"мастеркласс\",\n",
    "    \"\\\\мк\",\n",
    "    \"курс\",\n",
    "    \"своимируками\",\n",
    "    \"кудаго\",\n",
    "    \"кудапойти\",\n",
    "    \"кудасходить\",\n",
    "    \"обучение\"\n",
    "}"
   ]
  },
  {
   "cell_type": "code",
   "execution_count": null,
   "metadata": {},
   "outputs": [],
   "source": [
    "workshops_with_tags = (workshops_data.pipe(fext._add_tags, \n",
    "                                           pattern=\"kw_tag\", \n",
    "                                           key_words=key_words)\n",
    "                                     .pipe(fext._add_stripped_tags, key_words=key_words))"
   ]
  },
  {
   "cell_type": "code",
   "execution_count": null,
   "metadata": {},
   "outputs": [],
   "source": [
    "workshops_with_tags[\"stripped_tags\"]"
   ]
  },
  {
   "cell_type": "code",
   "execution_count": null,
   "metadata": {},
   "outputs": [],
   "source": [
    "!ls ./data"
   ]
  },
  {
   "cell_type": "code",
   "execution_count": null,
   "metadata": {},
   "outputs": [],
   "source": [
    "example = np.random.choice(workshops_with_tags[\"stripped_tags\"].values, 10)\n",
    "\n",
    "with open(\"./data/stopwords-ru.txt\", encoding=\"utf-8\") as f:\n",
    "    stop_words = set(f.read().splitlines())"
   ]
  },
  {
   "cell_type": "code",
   "execution_count": null,
   "metadata": {},
   "outputs": [],
   "source": [
    "example"
   ]
  },
  {
   "cell_type": "markdown",
   "metadata": {},
   "source": [
    "## Токенизация хэш тэгов с помощью вероятностного подхода\n",
    "\n",
    "https://nbviewer.jupyter.org/url/norvig.com/ipython/How%20to%20Do%20Things%20with%20Words.ipynb"
   ]
  },
  {
   "cell_type": "markdown",
   "metadata": {},
   "source": [
    "##### Идеи:\n",
    "- города использовать с лемматизацией"
   ]
  },
  {
   "cell_type": "code",
   "execution_count": 13,
   "metadata": {},
   "outputs": [
    {
     "name": "stdout",
     "output_type": "stream",
     "text": [
      "Wall time: 11.4 s\n"
     ]
    }
   ],
   "source": [
    "%%time\n",
    "\n",
    "fc = dahel.FreqCounter().fit(workshops_data['text'])\n",
    "fc_tags = dahel.FreqCounter().fit(workshops_data['text'], pattern=\"any_tag\")"
   ]
  },
  {
   "cell_type": "code",
   "execution_count": 14,
   "metadata": {},
   "outputs": [
    {
     "data": {
      "text/plain": [
       "(156123, 41459)"
      ]
     },
     "execution_count": 14,
     "metadata": {},
     "output_type": "execute_result"
    }
   ],
   "source": [
    "fc._freqs.__len__(), fc_tags._freqs.__len__()  # (156145, 41489)"
   ]
  },
  {
   "cell_type": "markdown",
   "metadata": {},
   "source": [
    "Для того чтобы иметь возможность правильно разделять слитно написанные тэги, необходимо иметь распределение вероятностей реальных слов - считаем частоты всех слов без тэгов"
   ]
  },
  {
   "cell_type": "code",
   "execution_count": null,
   "metadata": {},
   "outputs": [],
   "source": [
    "c = fc._freqs - fc_tags._freqs"
   ]
  },
  {
   "cell_type": "markdown",
   "metadata": {},
   "source": [
    "Для того чтобы хорошо отделять специальные слова, например названия городов, искусственxно добавляем им высокие частоты"
   ]
  },
  {
   "cell_type": "code",
   "execution_count": 15,
   "metadata": {},
   "outputs": [
    {
     "data": {
      "text/plain": [
       "0           москва\n",
       "1        абрамцево\n",
       "2          алабино\n",
       "3        апрелевка\n",
       "4    архангельское\n",
       "Name: 1, dtype: object"
      ]
     },
     "execution_count": 15,
     "metadata": {},
     "output_type": "execute_result"
    }
   ],
   "source": [
    "cities = pd.read_csv(\"./data/cities_.csv\", sep=\";\", header=None)[1]\n",
    "cities.head()"
   ]
  },
  {
   "cell_type": "code",
   "execution_count": 16,
   "metadata": {},
   "outputs": [],
   "source": [
    "cities_freqs = {city: 100 for city in cities.values}"
   ]
  },
  {
   "cell_type": "markdown",
   "metadata": {},
   "source": [
    "Дополнительно можно добавить несколько слов вручную"
   ]
  },
  {
   "cell_type": "code",
   "execution_count": 17,
   "metadata": {},
   "outputs": [
    {
     "data": {
      "text/plain": [
       "0        питер\n",
       "1          спб\n",
       "2    петроград\n",
       "3     петергоф\n",
       "4     аэробика\n",
       "Name: 1, dtype: object"
      ]
     },
     "execution_count": 17,
     "metadata": {},
     "output_type": "execute_result"
    }
   ],
   "source": [
    "special_words = pd.read_csv(\"./data/special_words.csv\", sep=\";\", header=None)[1]\n",
    "special_words.head()"
   ]
  },
  {
   "cell_type": "code",
   "execution_count": 18,
   "metadata": {},
   "outputs": [],
   "source": [
    "sp_words_freqs = {word: 100 for word in special_words}"
   ]
  },
  {
   "cell_type": "code",
   "execution_count": 19,
   "metadata": {},
   "outputs": [
    {
     "data": {
      "text/plain": [
       "128338"
      ]
     },
     "execution_count": 19,
     "metadata": {},
     "output_type": "execute_result"
    }
   ],
   "source": [
    "c.update(cities_freqs)\n",
    "c.update(sp_words_freqs)\n",
    "len(c)"
   ]
  },
  {
   "cell_type": "code",
   "execution_count": 20,
   "metadata": {
    "scrolled": true
   },
   "outputs": [
    {
     "name": "stdout",
     "output_type": "stream",
     "text": [
      "Word вчера frequency is 104\n",
      "Word мы frequency is 8001\n",
      "Word тех frequency is 3670\n",
      "Word досуг frequency is 66\n",
      "Word 2200руб frequency is 13\n",
      "Word скидка frequency is 1510\n",
      "Word и frequency is 31643\n",
      "Word завтра frequency is 782\n",
      "Word mail frequency is 816\n",
      "Word не frequency is 13590\n",
      "Word утро frequency is 519\n"
     ]
    }
   ],
   "source": [
    "n_rows, max_rows = 0, 10\n",
    "for word, freq in c.items():\n",
    "    if n_rows > max_rows:\n",
    "        break\n",
    "    print(\"Word %s frequency is %s\" % (word, freq))\n",
    "    n_rows += 1"
   ]
  },
  {
   "cell_type": "markdown",
   "metadata": {},
   "source": [
    "Препроцессинг слов в тэгах:\n",
    "- убрать стоп-слова (использовать множества)\n",
    "- убрать слишком короткие слова (неверные разбиения)\n",
    "- привести к нормальной форме (pymorphy)"
   ]
  },
  {
   "cell_type": "markdown",
   "metadata": {},
   "source": [
    "Собраем текстовые данные из полей <em>text</em> и <em>tags</em>"
   ]
  },
  {
   "cell_type": "code",
   "execution_count": null,
   "metadata": {},
   "outputs": [],
   "source": [
    "# сравнить результаты с лемматизатором и стеммером\n",
    "# from nltk.stem.snowball import SnowballStemmer \n",
    "\n",
    "# stemmer = SnowballStemmer(\"russian\") "
   ]
  },
  {
   "cell_type": "code",
   "execution_count": 22,
   "metadata": {},
   "outputs": [],
   "source": [
    "tag_pos = {\"ADJF\", \"NOUN\"}"
   ]
  },
  {
   "cell_type": "code",
   "execution_count": 48,
   "metadata": {},
   "outputs": [],
   "source": [
    "not_tag_pat = \"(?<!\\S)[а-я]+(?!\\S)\""
   ]
  },
  {
   "cell_type": "code",
   "execution_count": 51,
   "metadata": {},
   "outputs": [
    {
     "name": "stdout",
     "output_type": "stream",
     "text": [
      "Wall time: 110 ms\n"
     ]
    }
   ],
   "source": [
    "%%time\n",
    "\n",
    "test_text_data = TextPreprocessor(token=not_tag_pat, allowed_pos=tag_pos).transform(workshops_data[\"text\"].head())"
   ]
  },
  {
   "cell_type": "code",
   "execution_count": 52,
   "metadata": {
    "collapsed": true
   },
   "outputs": [
    {
     "data": {
      "text/plain": [
       "['добрый',\n",
       " 'дорога',\n",
       " 'огромный',\n",
       " 'букет',\n",
       " 'турецкий',\n",
       " 'ботанический',\n",
       " 'иллюстрация',\n",
       " 'запись',\n",
       " 'весь',\n",
       " 'информация',\n",
       " 'июнь',\n",
       " 'стоимость',\n",
       " 'весь',\n",
       " 'материал',\n",
       " 'боевой',\n",
       " 'дружеский']"
      ]
     },
     "execution_count": 52,
     "metadata": {},
     "output_type": "execute_result"
    }
   ],
   "source": [
    "test_text_data[0]"
   ]
  },
  {
   "cell_type": "code",
   "execution_count": 55,
   "metadata": {},
   "outputs": [
    {
     "name": "stdout",
     "output_type": "stream",
     "text": [
      "Wall time: 8min 37s\n"
     ]
    }
   ],
   "source": [
    "%%time\n",
    "\n",
    "text_data = TextPreprocessor(token=not_tag_pat, allowed_pos=tag_pos).transform(workshops_data[\"text\"])"
   ]
  },
  {
   "cell_type": "code",
   "execution_count": 56,
   "metadata": {
    "collapsed": true
   },
   "outputs": [
    {
     "data": {
      "text/plain": [
       "['добрый',\n",
       " 'дорога',\n",
       " 'огромный',\n",
       " 'букет',\n",
       " 'турецкий',\n",
       " 'ботанический',\n",
       " 'иллюстрация',\n",
       " 'запись',\n",
       " 'весь',\n",
       " 'информация',\n",
       " 'июнь',\n",
       " 'стоимость',\n",
       " 'весь',\n",
       " 'материал',\n",
       " 'боевой',\n",
       " 'дружеский']"
      ]
     },
     "execution_count": 56,
     "metadata": {},
     "output_type": "execute_result"
    }
   ],
   "source": [
    "text_data[0]"
   ]
  },
  {
   "cell_type": "code",
   "execution_count": 29,
   "metadata": {},
   "outputs": [
    {
     "data": {
      "text/plain": [
       "0        {досуг, workshop, акварель, мастеркласс, досуг...\n",
       "1        {цветы, workshop, мастеркласспоакварели, аквар...\n",
       "2        {цветы, workshop, мастеркласспоакварели, аквар...\n",
       "3        {рисуемакварельюшедевры, акварели, ботаника, р...\n",
       "4        {петроградская, школарисования, сергейзиновкин...\n",
       "                               ...                        \n",
       "37477    {украшенияназаказ, металклэй, ювелир, серебро,...\n",
       "37478    {украшенияназаказ, металклэй, ювелир, серебро,...\n",
       "37479                     {ювелирныймастеркласс, jakjoten}\n",
       "37480                               {ювелирныймастеркласс}\n",
       "37481                               {ювелирныймастеркласс}\n",
       "Name: tags, Length: 37482, dtype: object"
      ]
     },
     "execution_count": 29,
     "metadata": {},
     "output_type": "execute_result"
    }
   ],
   "source": [
    "workshops_data[\"tags\"]"
   ]
  },
  {
   "cell_type": "code",
   "execution_count": 108,
   "metadata": {},
   "outputs": [
    {
     "name": "stdout",
     "output_type": "stream",
     "text": [
      "Wall time: 2min 7s\n"
     ]
    }
   ],
   "source": [
    "%%time\n",
    "# поправить токенизацию\n",
    "tags_data = TextPreprocessor(mode=\"nospace\", counter=c, allowed_pos=tag_pos).transform(workshops_data[\"tags\"].str.join(\" \"))"
   ]
  },
  {
   "cell_type": "code",
   "execution_count": null,
   "metadata": {},
   "outputs": [],
   "source": []
  },
  {
   "cell_type": "code",
   "execution_count": null,
   "metadata": {},
   "outputs": [],
   "source": []
  },
  {
   "cell_type": "markdown",
   "metadata": {},
   "source": [
    "# Выделение тем при помощи кластеризации тэгов"
   ]
  },
  {
   "cell_type": "code",
   "execution_count": 113,
   "metadata": {},
   "outputs": [
    {
     "name": "stdout",
     "output_type": "stream",
     "text": [
      "Wall time: 796 ms\n"
     ]
    }
   ],
   "source": [
    "%%time\n",
    "\n",
    "vect_params = {\n",
    "#     \"ngram_range\": (1, 2),\n",
    "#     \"analyzer\": \"char_wb\",\n",
    "    \"max_df\": .95,\n",
    "    \"min_df\": 2,\n",
    "}\n",
    "\n",
    "class NoTokenTfidfVect(TfidfVectorizer):\n",
    "    def build_analyzer(self):\n",
    "        return lambda x: x\n",
    "\n",
    "tfidf = NoTokenTfidfVect(**vect_params)\n",
    "X = tfidf.fit_transform(text_data+tags_data)"
   ]
  },
  {
   "cell_type": "code",
   "execution_count": 114,
   "metadata": {},
   "outputs": [
    {
     "data": {
      "text/plain": [
       "<37482x15231 sparse matrix of type '<class 'numpy.float64'>'\n",
       "\twith 1247485 stored elements in Compressed Sparse Row format>"
      ]
     },
     "execution_count": 114,
     "metadata": {},
     "output_type": "execute_result"
    }
   ],
   "source": [
    "X"
   ]
  },
  {
   "cell_type": "code",
   "execution_count": 59,
   "metadata": {},
   "outputs": [
    {
     "name": "stdout",
     "output_type": "stream",
     "text": [
      "Wall time: 284 ms\n"
     ]
    }
   ],
   "source": [
    "%%time\n",
    "\n",
    "km = MiniBatchKMeans(random_state=17)\n",
    "km.fit(X)"
   ]
  },
  {
   "cell_type": "code",
   "execution_count": 62,
   "metadata": {},
   "outputs": [
    {
     "name": "stdout",
     "output_type": "stream",
     "text": [
      "fitting 2 clusters\n",
      "fitting 3 clusters\n",
      "fitting 4 clusters\n",
      "fitting 5 clusters\n",
      "fitting 6 clusters\n",
      "fitting 7 clusters\n",
      "fitting 8 clusters\n",
      "fitting 9 clusters\n",
      "fitting 10 clusters\n",
      "fitting 11 clusters\n",
      "fitting 12 clusters\n",
      "fitting 13 clusters\n",
      "fitting 14 clusters\n",
      "fitting 15 clusters\n",
      "fitting 16 clusters\n",
      "fitting 17 clusters\n",
      "fitting 18 clusters\n",
      "fitting 19 clusters\n"
     ]
    }
   ],
   "source": [
    "kma = dahel.KMeansAnalizer(km, X, verbose=True)\n",
    "\n",
    "kma.explore(range(2, 20))"
   ]
  },
  {
   "cell_type": "code",
   "execution_count": 63,
   "metadata": {
    "scrolled": true
   },
   "outputs": [
    {
     "data": {
      "image/png": "[encoded data removed]",
      "text/plain": [
       "<Figure size 432x288 with 1 Axes>"
      ]
     },
     "metadata": {
      "needs_background": "light"
     },
     "output_type": "display_data"
    }
   ],
   "source": [
    "kma.plot_inertia()"
   ]
  },
  {
   "cell_type": "code",
   "execution_count": 115,
   "metadata": {},
   "outputs": [
    {
     "data": {
      "text/plain": [
       "MiniBatchKMeans(batch_size=100, compute_labels=True, init='k-means++',\n",
       "        init_size=None, max_iter=100, max_no_improvement=10, n_clusters=15,\n",
       "        n_init=3, random_state=17, reassignment_ratio=0.01, tol=0.0,\n",
       "        verbose=0)"
      ]
     },
     "execution_count": 115,
     "metadata": {},
     "output_type": "execute_result"
    }
   ],
   "source": [
    "km1 = MiniBatchKMeans(n_clusters=15, random_state=17)\n",
    "km1.fit(X)"
   ]
  },
  {
   "cell_type": "code",
   "execution_count": null,
   "metadata": {
    "scrolled": false
   },
   "outputs": [],
   "source": [
    "# clustered_tags = new_ws_data.assign(labels=km1.labels_).groupby(\"labels\")[\"splitted_tags\"].apply(lambda x: set().union(*x))\n",
    "\n",
    "# for c in clustered_tags:\n",
    "#     print(c, end=\"\\n\\n\")"
   ]
  },
  {
   "cell_type": "markdown",
   "metadata": {},
   "source": [
    "Слова, характеризующие выделенные кластеры."
   ]
  },
  {
   "cell_type": "code",
   "execution_count": 116,
   "metadata": {},
   "outputs": [
    {
     "name": "stdout",
     "output_type": "stream",
     "text": [
      "Cluster 1: макияж бровь визажист окрашивание спб модель хна ламинирование коррекция запись услуга курс форма отработка визаж\n",
      "Cluster 2: ребёнок новогодний год занятие декабрь весь стоимость свой детский запись венка наш новый подарок ваш\n",
      "Cluster 3: спб весь запись стоимость директ свой рубль декупаж наш арт материал который питер день москва\n",
      "Cluster 4: рисование масло занятие живопись школа наш сантиметр картина абонемент холст художник сайт репост обучение акварель\n",
      "Cluster 5: торт кондитер кондитерский курс кондитерская москва мк кондитерские шоколад шоколадный школа крем домашняя начинка кулинарные\n",
      "Cluster 6: картина живопись масло арт весь рисование холст художник стоимость акрил свой рисуем творчество занятие запись\n",
      "Cluster 7: новосибирск живопись масло курсы афиша курс гончарная холст рисую личка гончарные детские керамический роспись обжиг\n",
      "Cluster 8: оплата сайт час рабочий минута метро мир человек арт описание масло время творчество навык активный\n",
      "Cluster 9: урок концерт съёмка фотограф нюанс фото караоке март вечер модель кавер рэ клип хорошевский интервью\n",
      "Cluster 10: вязание пряжа крючок спица магнитогорск шапка трикотажнаяпряжа корзинка вязаная вяжем трикотажный свитер доставка вяжу стоимость\n",
      "Cluster 11: ростов рост афиша кудапойти занятие мероприятия территория рисование абонемент корпоративные правополушарное запись творчество мероприятие обучение\n",
      "Cluster 12: пряник роспись спб студия мк детский пряничный имбирный ребёнок кухня наш кулинарная пряники аренда пряничек\n",
      "Cluster 13: сумка сумочка сумки заказ карман кожа вязаная натуральный сантиметр цена модель высота наличие цвета ширина\n",
      "Cluster 14: краснодар холст подрамник картон великолепный арт картина художественный картины масло подарок живопись афиша место школа\n",
      "Cluster 15: кулинарный кулинария кухня соус блюдо студия повар кулинарная салат приготовление день рубль рождение стоимость наш\n"
     ]
    }
   ],
   "source": [
    "order_centroids = km1.cluster_centers_.argsort()[:, ::-1]\n",
    "\n",
    "terms = tfidf.get_feature_names()\n",
    "for i in range(15):\n",
    "    print(\"Cluster %d:\" % (i + 1), end='')\n",
    "    for ind in order_centroids[i, :15]:\n",
    "        print(' %s' % terms[ind], end='')\n",
    "    print()"
   ]
  },
  {
   "cell_type": "markdown",
   "metadata": {},
   "source": [
    "# Выделение тем с использованием латентного размещения Дирихле"
   ]
  },
  {
   "cell_type": "code",
   "execution_count": 98,
   "metadata": {},
   "outputs": [],
   "source": [
    "cv_params = {\n",
    "    \"max_df\": 0.95,\n",
    "    \"min_df\": 2,\n",
    "    \"max_features\": 5000\n",
    "}\n",
    "\n",
    "lda_params = {\n",
    "    \"n_components\": 20,\n",
    "    \"max_iter\": 10,\n",
    "    \"learning_method\": \"online\",\n",
    "    \"learning_offset\": 50.,\n",
    "}\n",
    "\n",
    "class CustomCV(CountVectorizer):\n",
    "    def build_analyzer(self):\n",
    "        return lambda x: x\n",
    "\n",
    "class ProcessLDA:\n",
    "    \n",
    "    def __init__(self, cv_params, lda_params, random_state=17):\n",
    "        self.random_state = random_state\n",
    "        self.text_vect = CustomCV(**cv_params)\n",
    "        self.lda = LatentDirichletAllocation(**lda_params)\n",
    "\n",
    "    def fit(self, data):\n",
    "        X = self.text_vect.fit_transform(data)\n",
    "        self.lda.fit(X)\n",
    "        self.feature_names = tfidf.get_feature_names()\n",
    "        return self\n",
    "    \n",
    "    def print_top_words(self, n_top_words):\n",
    "        for topic_idx, topic in enumerate(self.lda.components_):\n",
    "            message = \"Topic #%d: \" % topic_idx\n",
    "            message += \" \".join([self.feature_names[i]\n",
    "                                 for i in topic.argsort()[:-n_top_words - 1:-1]])\n",
    "            print(message)\n",
    "        print()"
   ]
  },
  {
   "cell_type": "code",
   "execution_count": 111,
   "metadata": {},
   "outputs": [
    {
     "name": "stdout",
     "output_type": "stream",
     "text": [
      "Wall time: 1min 9s\n"
     ]
    }
   ],
   "source": [
    "%%time\n",
    "\n",
    "lda = ProcessLDA(cv_params, lda_params).fit(text_data+tags_data)"
   ]
  },
  {
   "cell_type": "code",
   "execution_count": 102,
   "metadata": {},
   "outputs": [
    {
     "data": {
      "text/plain": [
       "0        [добрый, дорога, огромный, букет, турецкий, бо...\n",
       "1                [запись, стоимость, весь, боевой, скидка]\n",
       "2                [запись, стоимость, весь, боевой, скидка]\n",
       "3        [радость, новое, талантливый, художница, сентя...\n",
       "4        [дорогой, подписчик, акварельный, портрет, сер...\n",
       "                               ...                        \n",
       "37477    [работа, инструктор, российский, школа, ольга,...\n",
       "37478    [работа, инструктор, российский, школа, ольга,...\n",
       "37479    [ювелирный, рубль, стоимость, октябрь, конец, ...\n",
       "37480    [наш, любимый, ученик, будущий, хороший, новый...\n",
       "37481    [наш, суперпредложение, самый, время, обручаль...\n",
       "Name: text, Length: 37482, dtype: object"
      ]
     },
     "execution_count": 102,
     "metadata": {},
     "output_type": "execute_result"
    }
   ],
   "source": [
    "text_data"
   ]
  },
  {
   "cell_type": "code",
   "execution_count": 112,
   "metadata": {},
   "outputs": [
    {
     "name": "stdout",
     "output_type": "stream",
     "text": [
      "Topic #0: выдержанна изба запоздание возможность идея вознесенский креативность горло гусев возможный кренделёк кремлёвский вознаграждение ацетатный выезд идеальность категория запоминательность входной земляничный\n",
      "Topic #1: детка комфортный бюджетный крутой замечательный давление грань базилик джаз крупяной кисловодск компактность коттедж добрый байбурина ацетатный аккуратность кувшинка витрина больница\n",
      "Topic #2: категория абсолюный золотистый колорит вечерний какао евтеева верёвочка гавайск бюджетный демьян дип индеец веселие картонаж гусев калашников глазковый вис ароматизация\n",
      "Topic #3: автобус акрил гендерный корректирование гиалуроновый зульфия карина кальмар десяток аппликация аэропорт извилистый канун актив динара баночка бюджетный комод автографсессия горстка\n",
      "Topic #4: гитара буйство зубков видеоурок акрил коростовцев корректирование креативность автоматический бьютиблогер котлетка карне атмосфера корректив кинотеатр глава зубок глазурь европейский аттракцион\n",
      "Topic #5: кафедра ильин бутафория бракосочетание кафейня кафельный инструктор зверик космонавтика грубый гуля видеообзор жизнеспособный запись безсахара горстка бараний бомба беззаботный изначальный\n",
      "Topic #6: индеец воскресение атмосфера артхаус захват веяние выдержанна зайчик вариация двухлетие иллюминация ждууа када космонавтика джем букетный вуд бараний больница венка\n",
      "Topic #7: братик вторник зубок ангорский кренделёк азиатский концовка изотов бизнес контрибьютор врачебный басманный классика крючок грация еременко блеск диалог артбук видение\n",
      "Topic #8: клюв градус горло вживление атмосфера вианна извилистый веяние гурьянов командный врачебный вознесенский карне байбурина бюджетный бодрый зорг годный девчёнка изюминка\n",
      "Topic #9: контуринг богачка кейс законодательница блог ачм када волнующий иммунитет дохристианский бараний видеотрансляция внутренний двухлетие карне иммунный антонио космикческий дарина зайцев\n",
      "Topic #10: иностранный дербент дмитровка крахмал дрожжи бегемотик деловой запуск карл ашмарин кликабельный австралия карне горошина задумчивость кабанов бузд берггольц балийский будт\n",
      "Topic #11: деловой креативность категория выдержанна выезд гусев кисломолочный колдовской воскресение горло корпус горстка бортик кинопоход контрастный жемчуг гиммнастик глаз декупаж дружественный\n",
      "Topic #12: изречение джангл котлетка кисловодск карне басманный атмосфера глазурь горгонзол котёнок каплевидный горбунов голливудский заход кинотеатр бишон годный грин агар джампингклэй\n",
      "Topic #13: атмосфера безудержный красивость градус захват глазурь карне клатч больница занятой контраст извилистый влага безопасность гримерка каплевидный горло кортёска арабский дакуаз\n",
      "Topic #14: камберленд драйв беременность глаз высота больница глазурь дорогой дворцовый извилистый идеальность блокнот бангкок есаяна категория вводный горло божоля герман бойкий\n",
      "Topic #15: аудио входящая извилистый выигрышный годный зона карне комод конус англичанка гусев категория вика богачка атмосфера гоголевский аттракцион конфликтный антисептик бешенной\n",
      "Topic #16: движуха блошиный дырявый двухлетие бесконтурный блузка ассоциативный коммуникативный интеграция колорит коммуникация дьявольский игла вожделенный введение дырокол жихарев житель ватсап дегустация\n",
      "Topic #17: атмосфера карне индеец бюджетный годный гусев вотсапп артхаус глазурь воскресение зиповскай басманный кисловодск влияние комод гиммнастик закручивание извилистый больница веяние\n",
      "Topic #18: бьютиблогер зиповскай блёстка гусев кинотеатр боков крымский абажур кинопроект богачка бюджетный карне категория бесконтурный заявка извилистый зубков веяние иванов захват\n",
      "Topic #19: аргументация дырявый конституция корявенький изгиб ингридиентный алгоритмика ассертивный косвенный вожделенный булочный кантемировский косметичка горло иглу блузка коррекция командорский константинов косметологический\n",
      "\n"
     ]
    }
   ],
   "source": [
    "lda.print_top_words(20)"
   ]
  },
  {
   "cell_type": "markdown",
   "metadata": {},
   "source": [
    "# На основе результатов кластеризации и латендного размещение Дирихле создаем словать для разметки данных"
   ]
  },
  {
   "cell_type": "code",
   "execution_count": null,
   "metadata": {},
   "outputs": [],
   "source": [
    "topics = {\n",
    "    \"живопись\": {\"масло\", \"картина\", \"живопись\", \"художник\", \"акварель\", \"акрил\", \"рисование\"},\n",
    "    \"фотография\": {\"фотография\", \"фотограф\", \"фотосъёмка\", \"фотосессия\"},\n",
    "    \"лепка\": {\"глина\", \"лепка\", \"полимерный\", \"лепить\"},\n",
    "    \"ювелирное_дело\": {\"ювелирный\", \"бижутерия\", \"ювелир\", \"брошь\"},\n",
    "    \"вязание\": {\"вязание\", \"вязаный\", \"крючок\", \"спица\", \"трикотажнаяпряжа\"},\n",
    "    \"шитьё\": {\"шитьё\", \"нитки\"},\n",
    "    \"кулинария\": {\"торт\", \"пряник\", \"десерт\", \"кулинарный\", \"кондитерский\", \"кухня\", \"еда\", \"дегустация\", \"повар\"},\n",
    "    \"флористика\": {\"флористика\", \"букет\", \"цветок\", \"цветочный\", \"флорист\", \"флорариум\"},\n",
    "    \"красота_и_здоровье\": {\"макияж\", \"стилист\", \"визажист\", \"стрижка\"},\n",
    "    \"детский\": {\"ребёнок\", \"детский\"},\n",
    "    \"валяние\": {\"валяние\"},\n",
    "    \"музыка\": {\"концерт\", \"музыка\", \"концертный\", \"клип\", \"песня\", \"кавер\"},\n",
    "    \"декор\": {\"декупаж\", \"декор\"}\n",
    "}\n",
    "\n",
    "def _map_tag_topics(tags: \"set\"):\n",
    "    res = set()\n",
    "    for tpc, map_tags in topics.items():\n",
    "        if map_tags & tags:\n",
    "            res.add(tpc)\n",
    "    return res\n",
    "\n",
    "def _map_text_topics(text):\n",
    "    res = set()\n",
    "    for tpc, words in topics.items():\n",
    "        for w in words:\n",
    "            if w in text:\n",
    "                res.add(tpc)\n",
    "    return res\n",
    "\n",
    "def _map_topics(row: \"pd.Series\"):\n",
    "    res = set()\n",
    "    for tpc, words in topics.items():\n",
    "        if words & row[\"tags\"]:\n",
    "            res.add(tpc)\n",
    "        for w in words:\n",
    "            if w in row[\"text\"]:\n",
    "                res.add(tpc)\n",
    "    return res"
   ]
  },
  {
   "cell_type": "code",
   "execution_count": null,
   "metadata": {},
   "outputs": [],
   "source": [
    "workshops_data.head()"
   ]
  },
  {
   "cell_type": "code",
   "execution_count": null,
   "metadata": {},
   "outputs": [],
   "source": [
    "text_data"
   ]
  },
  {
   "cell_type": "code",
   "execution_count": null,
   "metadata": {},
   "outputs": [],
   "source": [
    "text_data[\"text\"] = text_data[\"text\"] + tags_data"
   ]
  },
  {
   "cell_type": "code",
   "execution_count": null,
   "metadata": {},
   "outputs": [],
   "source": [
    "text_data[\"topics\"] = text_data['text'].map(_map_text_topics)"
   ]
  },
  {
   "cell_type": "code",
   "execution_count": null,
   "metadata": {},
   "outputs": [],
   "source": [
    "ts.segment(\"плетеныесумкиопт\")"
   ]
  },
  {
   "cell_type": "code",
   "execution_count": null,
   "metadata": {},
   "outputs": [],
   "source": [
    "np.random.choice(text_data[text_data[\"topics\"]==set()][\"text\"], 10)"
   ]
  },
  {
   "cell_type": "code",
   "execution_count": null,
   "metadata": {},
   "outputs": [],
   "source": [
    "workshops_data[\"tags\"].map(_map_tag_topics)"
   ]
  },
  {
   "cell_type": "code",
   "execution_count": null,
   "metadata": {},
   "outputs": [],
   "source": [
    "%%time\n",
    "\n",
    "workshops_data[\"topics\"] = workshops_data.apply(_map_topics, axis=1)"
   ]
  },
  {
   "cell_type": "code",
   "execution_count": null,
   "metadata": {},
   "outputs": [],
   "source": [
    "m.parse(workshops_data[workshops_data.topics == set()][\"text\"].iloc[0])"
   ]
  },
  {
   "cell_type": "code",
   "execution_count": null,
   "metadata": {},
   "outputs": [],
   "source": [
    "workshops_data[workshops_data.topics == set()][\"text\"].iloc[100]"
   ]
  },
  {
   "cell_type": "code",
   "execution_count": null,
   "metadata": {},
   "outputs": [],
   "source": []
  },
  {
   "cell_type": "code",
   "execution_count": null,
   "metadata": {},
   "outputs": [],
   "source": [
    "new_ws_data[\"topic\"] = new_ws_data[\"splitted_tags\"].map(_map_topics)"
   ]
  },
  {
   "cell_type": "code",
   "execution_count": null,
   "metadata": {},
   "outputs": [],
   "source": [
    "new_ws_data[new_ws_data[\"topic\"].map(lambda x: x==[])]"
   ]
  },
  {
   "cell_type": "markdown",
   "metadata": {},
   "source": [
    "# old"
   ]
  },
  {
   "cell_type": "code",
   "execution_count": null,
   "metadata": {},
   "outputs": [],
   "source": []
  },
  {
   "cell_type": "code",
   "execution_count": null,
   "metadata": {},
   "outputs": [],
   "source": [
    "# from pymorphy2 import MorphAnalyzer"
   ]
  },
  {
   "cell_type": "code",
   "execution_count": null,
   "metadata": {},
   "outputs": [],
   "source": [
    "# NOSPACE = dahel.NoSpaceSplitter(c)\n",
    "# MORPH = MorphAnalyzer()\n",
    "# my_stop_words = {\n",
    "#     \"мастеркласс\",\n",
    "#     \"мастер\",\n",
    "#     \"класс\",\n",
    "#     \"мк\",\n",
    "# }\n",
    "# STOPWORDS = set(stopwords.words(\"russian\")).union(my_stop_words)\n",
    "\n",
    "\n",
    "# class TextPreprocessor:\n",
    "                \n",
    "#     def __init__(self, mode=\"normal\", token=\"[а-я]+\", allowed_pos=None):\n",
    "#         if mode not in {\"normal\", \"nospace\"}:\n",
    "#             raise ValueError(\"Unknown mode.\")\n",
    "#         self.mode = mode\n",
    "#         self.token = token\n",
    "#         self.allowed_pos = allowed_pos\n",
    "                \n",
    "#     def _tokenize(self, doc):\n",
    "#         return re.findall(self.token, doc)\n",
    "    \n",
    "#     def _clear_stop_words(self, doc):\n",
    "#         return [w for w in doc if w not in STOPWORDS]\n",
    "    \n",
    "#     def _lemmatize(self, doc):\n",
    "#         res = []\n",
    "#         for w in doc:\n",
    "#             parsed = MORPH.parse(w)[0]\n",
    "#             if self.allowed_pos:\n",
    "#                 if parsed.tag.POS in self.allowed_pos:\n",
    "#                     res.append(parsed.normal_form)\n",
    "#                 else:\n",
    "#                     continue\n",
    "#             else:\n",
    "#                 res.append(parsed.normal_form)\n",
    "#         return res\n",
    "\n",
    "#     def _no_space_split(self, doc):\n",
    "#         res = []\n",
    "#         for w in doc:\n",
    "#             split = NOSPACE.segment(w)\n",
    "#             if len(split) <= 2:\n",
    "#                 res.extend(split)\n",
    "#         return res\n",
    "    \n",
    "#     def _preprocess(self, corpora):\n",
    "#         data = (corpora.str.lower()\n",
    "#                         .map(self._tokenize)\n",
    "#                         .map(self._lemmatize)\n",
    "#                         .map(self._clear_stop_words))\n",
    "#         return data\n",
    "\n",
    "#     def transform(self, corpora: \"pd.Series\"):\n",
    "#         if self.mode == \"normal\":\n",
    "#             return self._preprocess(corpora)\n",
    "#         elif self.mode == \"nospace\":\n",
    "#             return self._preprocess(corpora).map(self._no_space_split)"
   ]
  },
  {
   "cell_type": "code",
   "execution_count": null,
   "metadata": {},
   "outputs": [],
   "source": [
    "def pdist(counter):\n",
    "    \"Make a probability distribution, given evidence from a Counter.\"\n",
    "    N = sum(counter.values())\n",
    "    return lambda x: counter[x]/N\n",
    "\n",
    "P = pdist(c)"
   ]
  },
  {
   "cell_type": "code",
   "execution_count": null,
   "metadata": {},
   "outputs": [],
   "source": [
    "def Pwords(words):\n",
    "    \"Probability of words, assuming each word is independent of others.\"\n",
    "    return product((P(w) for w in words))\n",
    "\n",
    "def product(nums):\n",
    "    \"Multiply the numbers together.  (Like `sum`, but with multiplication.)\"\n",
    "    result = 1\n",
    "    for x in nums:\n",
    "        result *= x\n",
    "    return result"
   ]
  },
  {
   "cell_type": "code",
   "execution_count": null,
   "metadata": {},
   "outputs": [],
   "source": [
    "def memo(f):\n",
    "    \"Memoize function f, whose args must all be hashable.\"\n",
    "    cache = {}\n",
    "    def fmemo(*args):\n",
    "        if args not in cache:\n",
    "            cache[args] = f(*args)\n",
    "        return cache[args]\n",
    "#     fmemo.cache = cache\n",
    "    return fmemo\n",
    "\n",
    "def splits(text, start=0, L=20):\n",
    "    \"Return a list of all (first, rest) pairs; start <= len(first) <= L.\"\n",
    "    return [(text[:i], text[i:]) \n",
    "            for i in range(start, min(len(text), L)+1)]\n",
    "\n",
    "@memo\n",
    "def segment(text):\n",
    "    \"Return a list of words that is the most probable segmentation of text.\"\n",
    "    if not text: \n",
    "        return []\n",
    "    \n",
    "    candidates = [[first] + segment(rest) \n",
    "                  for (first, rest) in splits(text, 1)]\n",
    "    res = sorted(candidates, key=Pwords, reverse=True)\n",
    "    \n",
    "    return res[0]\n",
    "#     return candidates"
   ]
  },
  {
   "cell_type": "code",
   "execution_count": null,
   "metadata": {},
   "outputs": [],
   "source": [
    "# pat = re.compile(\"#(\\w*мастеркласс\\w*|мк\\w*|\\w*мк)(?=[#\\W]|$)\")\n",
    "def prepare_pat(key_words):\n",
    "    res = []\n",
    "    for kw in key_words:\n",
    "        res.append(r\"\\w*{}\\w*\".format(kw))\n",
    "    \n",
    "    special = [r\"мк\\w*\", r\"\\w*мк\"]\n",
    "    res.extend(special)\n",
    "    \n",
    "    tags_pat = \"|\".join(res)\n",
    "    \n",
    "    return re.compile(r\"#({})(?=[#\\W]|$)\".format(tags_pat))"
   ]
  },
  {
   "cell_type": "code",
   "execution_count": null,
   "metadata": {},
   "outputs": [],
   "source": [
    "pat1 = prepare_pat(key_words)"
   ]
  },
  {
   "cell_type": "code",
   "execution_count": null,
   "metadata": {},
   "outputs": [],
   "source": [
    "pat1"
   ]
  },
  {
   "cell_type": "code",
   "execution_count": null,
   "metadata": {},
   "outputs": [],
   "source": [
    "# cities = pd.read_csv(\"./data/city.csv\", sep=\";\")[\"name\"]\n",
    "# cities = cities.str.lower().str.replace(\"-\", \"\")\n",
    "# cities_tags = [\n",
    "#     \"спб\",\n",
    "#     \"питер\",\n",
    "#     \"петербург\",\n",
    "#     \"екб\",\n",
    "#     \"мск\"\n",
    "# ]\n",
    "# pd.concat([cities, pd.Series(cities_tags)], ignore_index=True).to_csv(\"./data/cities_.csv\", sep=\";\")"
   ]
  }
 ],
 "metadata": {
  "kernelspec": {
   "display_name": "Python 3",
   "language": "python",
   "name": "python3"
  },
  "language_info": {
   "codemirror_mode": {
    "name": "ipython",
    "version": 3
   },
   "file_extension": ".py",
   "mimetype": "text/x-python",
   "name": "python",
   "nbconvert_exporter": "python",
   "pygments_lexer": "ipython3",
   "version": "3.7.1"
  }
 },
 "nbformat": 4,
 "nbformat_minor": 2
}
